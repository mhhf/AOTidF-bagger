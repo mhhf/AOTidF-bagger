{
 "cells": [
  {
   "cell_type": "code",
   "execution_count": 1,
   "metadata": {
    "button": false,
    "collapsed": false,
    "deletable": true,
    "run_control": {
     "read_only": false
    }
   },
   "outputs": [],
   "source": [
    "\"\"\" Imports \"\"\"\n",
    "import random\n",
    "import itertools\n",
    "import matplotlib\n",
    "import numpy as np\n",
    "import networkx as nx\n",
    "import matplotlib.pyplot as plt\n",
    "\n",
    "from networkx.algorithms import bipartite"
   ]
  },
  {
   "cell_type": "code",
   "execution_count": 2,
   "metadata": {
    "collapsed": false
   },
   "outputs": [],
   "source": [
    "\"\"\" globale Definitionen \"\"\"\n",
    "random.seed('Zufall!!')\n",
    "mapWidth = 500\n",
    "mapHeight = 250"
   ]
  },
  {
   "cell_type": "markdown",
   "metadata": {},
   "source": [
    "### Skills\n",
    "Im Folgenden wird die Klasse _Skills_ implementiert. Sie repräsentiert einen Skill mit definierten Namen. Wird kein Name zur Initialisierung übergeben, wird ein Namen aus der ID (fortlaufende Nummer über alle initialisierten Skills) generiert.\n",
    "Danach werden beispielhaft vier Skills initialisiert. "
   ]
  },
  {
   "cell_type": "code",
   "execution_count": 3,
   "metadata": {
    "collapsed": false
   },
   "outputs": [],
   "source": [
    "class Skill:\n",
    "    count = 0\n",
    "    \n",
    "    def __init__(self, name=None):\n",
    "        self._id = Skill.count\n",
    "        Skill.count += 1\n",
    "        \n",
    "        if name is None:\n",
    "            self.name = \"Skill \" + str(self._id)\n",
    "        else:\n",
    "            self.name = name\n",
    "            \n",
    "            \n",
    "    def __str__(self):\n",
    "        return self.name"
   ]
  },
  {
   "cell_type": "code",
   "execution_count": 4,
   "metadata": {
    "collapsed": false
   },
   "outputs": [
    {
     "name": "stdout",
     "output_type": "stream",
     "text": [
      "Skills: baggern, mauern, heben, mischen\n"
     ]
    }
   ],
   "source": [
    "'''\n",
    "sBaggern = Skill(\"baggern\"); sMauern = Skill(\"mauern\")\n",
    "sHeben = Skill(\"heben\"); sMischen = Skill(\"mischen\"); \n",
    "\n",
    "skills = [sBaggern, sMauern, sHeben, sMischen, ]\n",
    "print \"Skills: \" + \", \".join([str(skill) for skill in skills])\n",
    "'''"
   ]
  },
  {
   "cell_type": "markdown",
   "metadata": {},
   "source": [
    "## Skillkapazitäten und Agenten (Baufirma)\n",
    "### Skillkapazität\n",
    "Agenten (Baufirmen) bieten Skills nicht einzeln, sondern als Skillkapazität (Klasse `SkillCap`) an, jedoch kann in einer Skillkapazität ein Skill natürlich auch nur einmal vorhanden sein. Die Kosten des Agentens für die Bereitstellung der kompletten Skillkapazität oder eines Teiles werden über eine spezifische Kostenfunktion berechnet. Diese wird bei der Initialisierung der Klasse übergeben und errechnet die Kosten auf Grundlage der Menge des angeforderten Skills und der Entfernung zwischen Agent und Baustelle. Es wird hier also die Kostenfunktion »$kosten(t, n, x, y) :\\Leftrightarrow$ Kosten für Agenten $x$ für die Bereitstellungen von $n$ Einheiten des Skils $t$ an die Baustelle $y$« für jede Skillkapazität verwaltet.\n",
    "\n",
    "Beispielhaft initialisieren wir zwei verschiedenen Skillkapazitäten mit unterschiedlicher Kostenfunktion und lassen uns zwei Preise ermitteln."
   ]
  },
  {
   "cell_type": "code",
   "execution_count": 4,
   "metadata": {
    "collapsed": false
   },
   "outputs": [],
   "source": [
    "class SkillCap:\n",
    "    count = 0\n",
    "    \n",
    "    def __init__(self, skill, capacity, costFunction):\n",
    "        \"\"\" Initialisiere eine Skillkapazität mit Skill, Menge und Kostenfunktion. \"\"\"\n",
    "        \n",
    "        self._id = SkillCap.count\n",
    "        SkillCap.count += 1\n",
    "        \n",
    "        self.skill = skill\n",
    "        self.capacity = self.actCapacity = capacity\n",
    "        self.costFunction = costFunction\n",
    "        self.costF = eval(costFunction)\n",
    "        \n",
    "    def __str__(self):\n",
    "        return str(self.skill) + \"(\" + str(self.actCapacity) + \")\"\n",
    "    \n",
    "    \n",
    "    def costs(self, distance, count):\n",
    "        \"\"\" Kosten für eine Menge der Skillkapazität. \"\"\"\n",
    "        \n",
    "        if  0 < count and count <= self.actCapacity:\n",
    "            return int(self.costF(count, distance))\n",
    "        else:\n",
    "            raise None"
   ]
  },
  {
   "cell_type": "code",
   "execution_count": 6,
   "metadata": {
    "collapsed": false
   },
   "outputs": [
    {
     "name": "stdout",
     "output_type": "stream",
     "text": [
      "Skillkapazitäten: baggern(10), mauern(8)\n",
      "Kosten für 2 Items sk0, Distanz 5: 405\n",
      "Kosten für 4 Items sk0, Distanz 5: 810\n"
     ]
    }
   ],
   "source": [
    "'''\n",
    "sk0 = SkillCap(sBaggern, 10, 'lambda k,d: (k/3+1)*d + 200*k')  # 10 items, 3 items per shipment, one item 200\n",
    "sk1 = SkillCap(sMauern,   8, 'lambda k,d: (k/3+1)*d + 215*k')  #  8 items, 3 items per shipment, one item 215\n",
    "print \"Skillkapazitäten: \" + str(sk0) + \", \" + str(sk1)\n",
    "\n",
    "print \"Kosten für 2 Items sk0, Distanz 5: \" + str(sk0.costs(5, 2))\n",
    "print \"Kosten für 4 Items sk0, Distanz 5: \" + str(sk0.costs(5, 4))\n",
    "'''"
   ]
  },
  {
   "cell_type": "markdown",
   "metadata": {},
   "source": [
    "### Agent (Baufirma)\n",
    "Eine Agent (Baufirma, Klasse `Agent`) sitzt in unserem Spiel auf einem bestimmten Punkt im 2D-Raum und hält Skillkapazitäten bereit. Im Laufe des Spiel verkauft er diese an Baustellen. In dieser Klasse wird für den instanziierten Agenten $x$ die Funktion »$supply(x, t) \\mapsto n :\\Leftrightarrow$ Agent $x$ besitzt $n$ Einheiten vom Skill $t$« verwaltet. Die Kostenfunktion »$kosten(t, n, x, y)$« kann bei dem Agenten für jede seine Skillkapazitäten abgefragt werden.\n",
    "\n",
    "Im Folgenden wird ein Agenten mit den weiter oben definierten Skillkapazitäten erstellt. Der Agent verkauft danach zwei Einheiten \"baggern\" an eine Baustelle, die 5 Einheiten entfernt liegt."
   ]
  },
  {
   "cell_type": "code",
   "execution_count": 5,
   "metadata": {
    "button": false,
    "collapsed": false,
    "deletable": true,
    "run_control": {
     "read_only": false
    }
   },
   "outputs": [],
   "source": [
    "class Agent:\n",
    "    count = 0\n",
    "    \n",
    "    def __init__(self, skillCaps, x=None, y=None):\n",
    "        \"\"\" Initialisieren eines Agenten mit übergebenen Skillkapazitäten. Werden keine Koordinaten übergeben, \n",
    "            wird der Agent zufällig auf der Karte platziert. \"\"\"\n",
    "        \n",
    "        self._id = \"A\"+str(Agent.count)\n",
    "        Agent.count += 1\n",
    "        \n",
    "        self.skillCaps = skillCaps\n",
    "        if x is None: self.x = random.uniform(0, mapWidth)\n",
    "        else: self.x = x\n",
    "        if y is None: self.y = random.uniform(0, mapHeight)\n",
    "        else: self.y = y\n",
    "    \n",
    "    def __str__(self):\n",
    "        skillString = \"\"\n",
    "        if len(self.skillCaps) > 0:\n",
    "            skillString = \" (\" + \", \".join([str(skillCap) for skillCap in self.skillCaps]) + \")\"\n",
    "        \n",
    "        return(\"Agent \" + str(self._id) + skillString)\n",
    "    \n",
    "    \n",
    "    @property\n",
    "    def supply(self):  # Agent, Skill, Menge \n",
    "        tmp = [[self._id, str(skillCap.skill), skillCap.capacity] for skillCap in self.skillCaps]\n",
    "        tmp = np.array(tmp, dtype=object)\n",
    "        tmp[:,0].astype(str); tmp[:,1].astype(str); tmp[:,2].astype(int);\n",
    "        return tmp\n",
    "    \n",
    "    @property\n",
    "    def costs(self):  # Agent, Skill, Kostenfunktion\n",
    "        return np.array([[self._id, str(skillCap.skill), skillCap.costFunction] for skillCap in self.skillCaps])\n",
    "    \n",
    "    def getCosts(self, skill, count, distance):\n",
    "        skillCap = [skillC for skillC in self.skillCaps if str(skillC.skill) == skill]\n",
    "        if len(skillCap) > 0:\n",
    "            return int(skillCap[0].costF(distance, count))\n",
    "        else:\n",
    "            return None\n",
    "    \n",
    "    def checkSell(self, skill, count, price, distance):\n",
    "        skillCap = [skillC for skillC in self.skillCaps if skillC.skill == skill]\n",
    "        if len(skillCap) > 0 and 0 < skillCap[0].count and count <= skillCap[0].actCapacity \\\n",
    "         and int(skillCap[0].costF(distance, count)) <= price:\n",
    "            return True\n",
    "        else:\n",
    "            return False\n",
    "    \n",
    "    def sell(self, skill, count, distance):      \n",
    "        skillCap = [skillC for skillC in self.skillCaps if skillC.skill == skill][0]\n",
    "        skillCap.actCapacity -= count\n",
    "        return int(skillCap.costF(distance, count))"
   ]
  },
  {
   "cell_type": "code",
   "execution_count": 8,
   "metadata": {
    "collapsed": false
   },
   "outputs": [
    {
     "name": "stdout",
     "output_type": "stream",
     "text": [
      "Agent A0 (baggern(10), mauern(8))\n",
      "Agent verkauft 2 Einheiten \"baggern\" über die Distanz 5 mit den Kosten 1004\n",
      "Agent A0 (baggern(8), mauern(8))\n"
     ]
    }
   ],
   "source": [
    "'''\n",
    "# Agenten erstellen mit den obigen Skillkapazitäten\n",
    "agent0 = Agent((sk0, sk1))\n",
    "print agent0\n",
    "\n",
    "# Verkauf von 2 Einheiten des Skills \"baggern\" über die Distanz von 5\n",
    "print \"Agent verkauft 2 Einheiten \\\"baggern\\\" über die Distanz 5 mit den Kosten \" + \\\n",
    "       str(agent0.sell(sBaggern, 2, 5))\n",
    "print agent0\n",
    "'''"
   ]
  },
  {
   "cell_type": "markdown",
   "metadata": {
    "button": false,
    "deletable": true,
    "run_control": {
     "read_only": false
    }
   },
   "source": [
    "## Ausschreibungen und Baustellen\n",
    "### Ausschreibung\n",
    "In einer Ausschreibung (Klasse `SkillReq`) wird die von einer Baustelle gewünschte Menge eines Skills festgehalten. Beispielhaft erstellen wir zwei Requests."
   ]
  },
  {
   "cell_type": "code",
   "execution_count": 6,
   "metadata": {
    "collapsed": false
   },
   "outputs": [],
   "source": [
    "class SkillReq:\n",
    "    count = 0\n",
    "    \n",
    "    def __init__(self, skill, amount):\n",
    "        \"\"\" Initialisiere einer Ausschreibung mit Skill und Menge. \"\"\"\n",
    "    \n",
    "        self._id = SkillReq.count\n",
    "        SkillReq.count += 1\n",
    "        \n",
    "        self.skill = skill\n",
    "        self.amount = self.actAmount = amount\n",
    "    \n",
    "    \n",
    "    def __str__(self):\n",
    "        return str(self.skill) + \"(\" + str(self.actAmount) + \")\""
   ]
  },
  {
   "cell_type": "code",
   "execution_count": 10,
   "metadata": {
    "collapsed": false
   },
   "outputs": [
    {
     "name": "stdout",
     "output_type": "stream",
     "text": [
      "Requests: baggern(5), mauern(5)\n"
     ]
    }
   ],
   "source": [
    "'''\n",
    "# Definition zweier Ausschreibungen\n",
    "req0 = SkillReq(sBaggern, 5)\n",
    "req1 = SkillReq(sMauern, 5)\n",
    "print \"Requests: \" + str(req0) + \", \" + str(req1)\n",
    "'''"
   ]
  },
  {
   "cell_type": "markdown",
   "metadata": {},
   "source": [
    "### Baustelle\n",
    "Im Laufe des Spiel sind es die Baustellen (Klasse `Site`), deren Ausschreibungen im Rahmen ihres Budgets im Laufe eines Spieles von den Agenten erfüllt werden sollen. Auch sie sind fest im Koordinatensystem einem Ort zugeordnet, der zufällig ist, sollte keiner übergeben werden. Diese Klasse besitzt also die Eigenschaften »$demand(x, t) \\mapsto n :\\Leftrightarrow$ Baustelle $x$ benötigt $n$ Einheiten vom Skilltyp $t$«, die uns alle Ausschreibungen aggregiert. Das Budget »$budget(x) \\mapsto n :\\Leftrightarrow$ Baustelle $x$ ist bereit einen Gewinn von maximal $n$ bei Fertigstellung auszuzahlen« ist direkt der Klasse Baustelle zugeordnet.\n",
    "\n",
    "Beispielhaft wird eine Baustelle mit Budget 2000 erstellt, die fünf Einheiten \"baggern\" und \"mauern\" benötigt. Sie kauft im Folgenden 3 Einheiten des Skills \"baggern\" für 1200."
   ]
  },
  {
   "cell_type": "code",
   "execution_count": 7,
   "metadata": {
    "button": false,
    "collapsed": false,
    "deletable": true,
    "run_control": {
     "read_only": false
    }
   },
   "outputs": [],
   "source": [
    "class Site:\n",
    "    count = 0\n",
    "    \n",
    "    def __init__(self, requests, budget, x=None, y=None):\n",
    "        \"\"\" Initialisiere einer Baustelle mit übergebenen Request. Werden keine Koordinaten übergeben, \n",
    "            wird die Baustelle zufällig auf der Karte platziert. \"\"\"\n",
    "        \n",
    "        self._id = \"B\"+str(Site.count)\n",
    "        Site.count += 1\n",
    "        \n",
    "        self.requests = requests\n",
    "        self.bud = self.actBudget = budget\n",
    "        if x is None: self.x = random.uniform(0, mapWidth)\n",
    "        else: self.x = x\n",
    "        if y is None: self.y = random.uniform(0, mapHeight)\n",
    "        else: self.y = y\n",
    "    \n",
    "    def __str__(self):\n",
    "        requestString = \"\"\n",
    "        if len(self.requests) > 0:\n",
    "            requestString = \" (\" + \", \".join([str(request) for request in self.requests]) + \")\"\n",
    "        \n",
    "        return(\"Baustelle \" + str(self._id) + \" (Budget: \" + str(self.actBudget) + \")\" + requestString)\n",
    "    \n",
    "    @property\n",
    "    def demand(self):  # Baustelle, Skill, Menge\n",
    "        tmp = [[self._id, str(request.skill), request.amount] for request in self.requests]\n",
    "        tmp = np.array(tmp, dtype=object)\n",
    "        tmp[:,0].astype(str); tmp[:,1].astype(str); tmp[:,2].astype(int);\n",
    "        return tmp\n",
    "    \n",
    "    @property\n",
    "    def budget(self):  # Baustelle, Budget\n",
    "        return [self._id, self.bud]\n",
    "    \n",
    "    def checkBuy(self, skill, count, price):\n",
    "        skillReq = [skillR for skillR in self.requests if skillR.skill == skill][0]\n",
    "        if skillReq is not None and price <= self.actBudget and \\\n",
    "           0 < skillReq.actAmount and count <= skillReq.actAmount:\n",
    "            return True\n",
    "        else: \n",
    "            return False\n",
    "    \n",
    "    def buy(self, skill, count, price):\n",
    "        skillReq = [skillR for skillR in self.requests if skillR.skill == skill][0]\n",
    "        skillReq.actAmount -= count\n",
    "        self.actBudget -= price"
   ]
  },
  {
   "cell_type": "code",
   "execution_count": 12,
   "metadata": {
    "collapsed": false
   },
   "outputs": [
    {
     "name": "stdout",
     "output_type": "stream",
     "text": [
      "Baustelle B0 (Budget: 2000) (baggern(5), mauern(5))\n",
      "Baustelle kauft drei Einheiten \"baggern\" für 1020 \n",
      "Baustelle B0 (Budget: 980) (baggern(2), mauern(5))\n"
     ]
    }
   ],
   "source": [
    "'''\n",
    "# Initialisieren einer Baustelle mit den weiter oben definierten Ausschreibungen\n",
    "site0 = Site([req0, req1], 2000)\n",
    "print site0\n",
    "\n",
    "# Kauf von drei Einheiten Baggern für 1020\n",
    "site0.buy(sBaggern, 3, 1020)\n",
    "print \"Baustelle kauft drei Einheiten \\\"baggern\\\" für 1020 \\n\" + str(site0)\n",
    "'''"
   ]
  },
  {
   "cell_type": "markdown",
   "metadata": {
    "button": false,
    "deletable": true,
    "run_control": {
     "read_only": false
    }
   },
   "source": [
    "## Szenario\n",
    "Ein Szenario (Klasse `Scenario`) bringt nun alle vorherigen Entitäten zu einem Spiel zusammen. Durch eine komplexe Initialisierungs-Methode ist es vielfältig möglich verschiedene Spiele mit unterschiedlichen Skills, Agenten und Baustellen mit Skillkapazitäten, Kostenfunktionen, Skillanforderungen und Budget erstellen. In der Klasse Szenario werden die Funktionen »$match(x,t,y)\\mapsto n :\\Leftrightarrow$ Agent $x$ sendet $n$ Einheiten des Skilltyps $t$ an die Baustelle $y$« und »$v(x,y)\\mapsto n :\\Leftrightarrow$ Agent $x$ erhält von Baustelle $y$ die Vergütung $n$« verwaltet. Daneben lassen sich alle Informationen aus der algebraischen Beschreibung des Coalition Skill Games abfragen und z.T. grafisch aufgearbeitet darstellen."
   ]
  },
  {
   "cell_type": "code",
   "execution_count": 8,
   "metadata": {
    "collapsed": false
   },
   "outputs": [],
   "source": [
    "class Scenario:\n",
    "    \n",
    "    \n",
    "    def __init__(self, agentCount=2, siteCount=2, skills=[Skill(\"mauern\"), Skill(\"baggern\")], \\\n",
    "                 skillCap=[[10,20],[15,10]], skillReq=[[7,15],[8,8]], budget=[9000000], \\\n",
    "                 costFunction=[['lambda k,d:(k/5+1)*d+200*k', 'lambda k,d:(k/3+1)*d+250*k']], \\\n",
    "                 agents=None, sites=None):\n",
    "        \"\"\" Initialisierung eines Szenarios: Ohne die weitere Angabe von Parametern wird ein Szenario mit zwei Agenten \n",
    "            und einer Baustelle erstellt, die zwei Skills (\"mauern\" und \"baggern\") in der Menge (10,20) für Agent 1 \n",
    "            und (15,10) für Agent 2 als Skillkapazität besitzen bzw. Baustelle 1 (7,15) und Baustelle 2 (8,8) suchen.\n",
    "            Es gibt für die Skillkapazitäten Standardkostenfunktionen, die z.B. für den ersten Skill von Kosten von \n",
    "            200 per item und Shipmentkosten von $distance je 5 items ausgeht. Von dem dritten Skill könne nur 3 auf \n",
    "            einmal transportiert werden und eine Einheit kostet 250. Das Defaultbudget der Baustellen beträgt 100.000. \n",
    "            \n",
    "            Alternativ hätte auch für jeden Agenten eine eigene Kostenfunktion bzw. jede Baustelle ein eigenes Budget \n",
    "            definiert werden können. Wenn Baustellen und Agenten bereits der Funktion übergeben werden (als Iterable),\n",
    "            so werden diese benutzt. \"\"\"\n",
    "        \n",
    "        self.skills = skills\n",
    "        self.sales  = None\n",
    "        \n",
    "        # Are there complete sites? ############\n",
    "        if sites is not None:\n",
    "            self.sites = sites\n",
    "        else:\n",
    "            # check if budget sitewise or for all sites?\n",
    "            if len(budget) == 1:\n",
    "                budget = budget * siteCount\n",
    "            elif len(budget) != siteCount:\n",
    "                raise Exception(\"Scenario\", \"__init__()\", \"site-budget\")\n",
    "            \n",
    "            # check skill requests\n",
    "            if len(skillReq) == 1:\n",
    "                skillReq = skillReq * siteCount\n",
    "            elif len(skillReq) != siteCount:\n",
    "                raise Exception(\"Scenario\", \"__init__()\", \"site-requests\")\n",
    "                \n",
    "            # create sites\n",
    "            self.sites = list()\n",
    "            for site in range(siteCount):\n",
    "                \n",
    "                # create Skill Requests\n",
    "                sk = list()\n",
    "                if len(skillReq[site]) == len(skills):\n",
    "                    for i, skill in enumerate(skills):\n",
    "                        sk.append(SkillReq(skill, skillReq[site][i]))\n",
    "                elif len(skillReq) != siteCount:\n",
    "                    raise Exception(\"Scenario\", \"__init__()\", \"site-requests-creation\")\n",
    "\n",
    "                self.sites.append(Site(sk, budget[site]))\n",
    "        \n",
    "        # Are there complete agents? ############\n",
    "        if agents is not None:\n",
    "            self.agents = agents\n",
    "        else:\n",
    "            # check if costFunction sitewise or for all sites?\n",
    "            if len(costFunction) == 1:\n",
    "                costFunction = costFunction * agentCount\n",
    "            elif len(costFunction) != agentCount:\n",
    "                raise Exception(\"Scenario\", \"__init__()\", \"agent-costFunction\")\n",
    "            \n",
    "            # check skill capacities\n",
    "            if len(skillCap) == 1:\n",
    "                skillCap = skillCap * agentCount\n",
    "            elif len(skillCap) != agentCount:\n",
    "                raise Exception(\"Scenario\", \"__init__()\", \"agent-capabilities\")\n",
    "                \n",
    "            # create agents\n",
    "            self.agents = list()\n",
    "            for agent in range(agentCount):\n",
    "                \n",
    "                # create Skill Capacities\n",
    "                sk = list()\n",
    "                if len(skillCap[agent]) == len(skills):\n",
    "                    for i, skill in enumerate(skills):\n",
    "                        sk.append(SkillCap(skill, skillCap[agent][i], costFunction[agent][i]))\n",
    "                elif len(skillReq) != siteCount:\n",
    "                    raise Exception(\"Scenario\", \"__init__()\", \"agent-cap-creation\")\n",
    "                    \n",
    "                self.agents.append(Agent(sk))\n",
    "     \n",
    "        \n",
    "    def __str__(self):\n",
    "        \"\"\" Ausgabe des Szenarios in der definierten Algebra-Schreibweise. \"\"\"\n",
    "        supply  = [ \", \".join([elem[0], elem[1], str(elem[2])]) for elem in self.supply]\n",
    "        demand  = [ \", \".join([elem[0], elem[1], str(elem[2])]) for elem in self.demand]\n",
    "        budget  = [ \", \".join([elem[0], elem[1]]) for elem in list(self.budget)]\n",
    "        costs   = [ \", \".join([elem[0], elem[1], elem[2]]) for elem in list(self.costs)]\n",
    "        matches = [ \", \".join([elem[0], elem[1], elem[2], elem[3], elem[4]]) for elem in list(self.matches)]\n",
    "        \n",
    "        return \"Agenten: \" + \", \".join(self.agent) + \"\\nBaustellen: \" + \", \".join(self.site) + \"\\n\" + \\\n",
    "               \"Supply: \" +  \"(\"+\"), (\".join(supply)+\")\" + \"\\nDemand: \" +\"(\"+\"), (\".join(demand)+\")\\n\" + \\\n",
    "               \"Budget: \" + \"(\"+\"), (\".join(budget)+\")\" + \"\\nCosts: \" +\"(\"+\"), (\".join(costs)+\")\\n\" + \\\n",
    "               \"Matches: \"+ \"(\"+\"), (\".join(matches)+\")\" \n",
    "    \n",
    "    \n",
    "    @property\n",
    "    def agent(self):   # Agent\n",
    "        return np.array([agent._id for agent in self.agents])\n",
    "    \n",
    "    @property\n",
    "    def site(self):    # Baustelle\n",
    "        return np.array([site._id for site in self.sites])\n",
    "                                           \n",
    "    @property\n",
    "    def supply(self):  # Agent, Skill, Menge\n",
    "        return np.concatenate([agent.supply for agent in self.agents], axis=0)\n",
    "    \n",
    "    @property\n",
    "    def demand(self):  # Baustelle, Skill, Menge\n",
    "        return np.concatenate([site.demand for site in self.sites], axis=0)\n",
    "    \n",
    "    @property\n",
    "    def budget(self):  # Baustelle, Budget\n",
    "        return np.array([site.budget for site in self.sites])\n",
    "    \n",
    "    @property\n",
    "    def costs(self):   # Agent, Skill, Kostenfunktion\n",
    "        return np.concatenate([agent.costs for agent in self.agents])\n",
    "    \n",
    "    @property\n",
    "    def matches(self): # Agent, Baustelle, Skill, Menge, Preis\n",
    "        return self.sales[0:5] if self.sales is not None else list()\n",
    "    \n",
    "    \n",
    "    def match(self, agent, site, skill, amount, price):\n",
    "        \"\"\" Über diese Funktion wird ein Verkaufsvorgang durchgeführt bzw. ein Matching eingetragen. \n",
    "            Dieser Vorgang wird beschrieben durch den verkaufenden Agente, der kaufenden Baustelle, \n",
    "            den verhandelten Skill und den von der Baustelle bezahlten Preis. Wir speichern zusätzlich\n",
    "            die Kosten für den Agenten. \"\"\"\n",
    "        \n",
    "        # Kriegen wir Objekte oder IDs?\n",
    "        if isinstance(agent, basestring): \n",
    "            agent = [elem for elem in self.agents if elem._id == agent][0]\n",
    "        if isinstance(site, basestring): \n",
    "            site = [elem for elem in self.sites if elem._id == site][0]\n",
    "        if isinstance(skill, basestring): \n",
    "            skill = [elem for elem in self.skills if str(elem) == skill][0]\n",
    "        \n",
    "\n",
    "        if agent.checkSell(skill, amount, price, self.distance(agent, site)) \\\n",
    "           and site.checkBuy(skill, amount, price):\n",
    "                \n",
    "            costs = agent.sell(skill, amount, self.distance(agent, site))\n",
    "            site.buy(skill, amount, price)\n",
    "            \n",
    "            sale = np.array([[agent._id, site._id, str(skill), str(amount), price, costs]])\n",
    "            \n",
    "            if self.sales is None:\n",
    "                self.sales = sale\n",
    "            else: \n",
    "                self.sales = np.vstack([self.sales, sale])\n",
    "            return True\n",
    "        \n",
    "        else:  # Skill nicht mehr vorhanden bei Site\n",
    "            return None\n",
    "    \n",
    "    def getAgent(self, id):\n",
    "        return [elem for elem in self.agents if elem._id == id][0]\n",
    "    \n",
    "    def getSite(self, id):\n",
    "        return [elem for elem in self.sites if elem._id == id][0]\n",
    "\n",
    "        \n",
    "    def distance(self, a, b):\n",
    "        return ( ((a.x-b.x)**2)+((a.y-b.y)**2) )**0.5\n",
    "    \n",
    "    \n",
    "    def plotBiGraph(self):\n",
    "        # create nx-Graph\n",
    "        B = nx.Graph()\n",
    "        B.add_nodes_from([agent._id for agent in self.agents], bipartite=0)\n",
    "        B.add_nodes_from([site._id for site in self.sites], bipartite=1)\n",
    "        if self.sales is not None:\n",
    "            B.add_edges_from([(match[0], match[1]) for match in self.sales])\n",
    "        \n",
    "        # left or right?\n",
    "        pos = dict()\n",
    "        pos.update( (agent._id, (1, i)) for i, agent in enumerate(self.agents) )\n",
    "        pos.update( (site._id, (2, i)) for i, site in enumerate(self.sites) )\n",
    "        \n",
    "        # formating for plotting\n",
    "        color  = ['b'] * len(self.agents)\n",
    "        color += ['g'] * len(self.sites)\n",
    "        \n",
    "        # labels for edges\n",
    "        edgeLabels = dict()\n",
    "        if self.sales is not None:\n",
    "            labels = [ ((match[0], match[1]), \"<- Preis: \"+str(match[4])+ \\\n",
    "                \" / Skill: \"+str(match[2])+\"(\"+str(match[3])+\") ->\") \\\n",
    "                for match in self.sales]\n",
    "            \n",
    "            for label in labels:\n",
    "                if label[0] not in edgeLabels:\n",
    "                    edgeLabels[label[0]] = label[1]\n",
    "                else:\n",
    "                    edgeLabels[label[0]] = edgeLabels[label[0]]+\"\\n\"+label[1]\n",
    "        \n",
    "        # draw it\n",
    "        nx.draw_networkx_edge_labels(B, pos=pos, edge_labels=edgeLabels)\n",
    "        nx.draw_networkx(B, pos=pos, with_labels=True, node_size=700, node_color=color)\n",
    "        plt.axis('off')\n",
    "        plt.show()\n",
    "        \n",
    "        \n",
    "    def plotMap(self):\n",
    "        # data\n",
    "        agent = np.array([[agent.x, agent.y, agent._id, str(agent), 'b'] for agent in self.agents])\n",
    "        site = np.array([[site.x, site.y, site._id, str(site), 'g'] for site in self.sites])\n",
    "        plot = np.vstack([agent, site])\n",
    "        \n",
    "        # Plot\n",
    "        fig = plt.figure(1, figsize=(8,5))\n",
    "        ax = plt.subplot(111)\n",
    "        \n",
    "        for i in range(len(plot)):\n",
    "            ax.scatter(plot[i,0], plot[i,1], s=150, marker=\"8\", label=plot[i,3], c=plot[i,4])\n",
    "        \n",
    "        for i, txt in enumerate(plot[:,2]):\n",
    "            ax.annotate(txt, (plot[i,0], plot[i,1]), xytext=(float(plot[i,0])+10, float(plot[i,1])-5))\n",
    "        \n",
    "        ax.set_xticks(np.arange(0,mapWidth,50))\n",
    "        ax.set_yticks(np.arange(0,mapHeight,25))\n",
    "\n",
    "        plt.xlim(0, mapWidth)\n",
    "        plt.ylim(0, mapHeight)\n",
    "        plt.grid()\n",
    "        plt.legend(bbox_to_anchor=(1.05, 1), loc=2, borderaxespad=0.)\n",
    "        plt.show()\n",
    "        \n",
    "    \n",
    "    def getStats(self):\n",
    "        stats = dict()\n",
    "        \n",
    "        # Umsatz\n",
    "        if self.sales is not None:\n",
    "            print self.sales[:,4]\n",
    "            stats.update({\"Umsatz\": sum(self.sales[:,4].astype(int))})\n",
    "        else:\n",
    "            stats.update({\"Umsatz\": 0})\n",
    "            \n",
    "        # Kosten\n",
    "        if self.sales is not None:\n",
    "            print self.sales\n",
    "            stats.update({\"Kosten\": sum(self.sales[:,5].astype(int))})\n",
    "        else:\n",
    "            stats.update({\"Kosten\": 0})\n",
    "            \n",
    "        # Gewinn\n",
    "        stats.update({\"Gewinn\": stats[\"Umsatz\"] - stats[\"Kosten\"]})\n",
    "        \n",
    "        # Requests\n",
    "        stats.update({\"Requests\": sum([req.amount for site in self.sites \\\n",
    "                                       for req in site.requests]) })\n",
    "        \n",
    "        # Requests offen\n",
    "        stats.update({\"Requests offen\": sum([req.actAmount for site in self.sites \\\n",
    "                                            for req in site.requests]) })\n",
    "        \n",
    "        # Baustellen\n",
    "        stats.update({\"Baustellen\": len(self.sites) })\n",
    "        \n",
    "        # Baustellen offen\n",
    "        stats.update({\"Baustellen offen\": sum([1 for site in self.sites \\\n",
    "                     if sum([req.actAmount for req in site.requests]) > 0]) })\n",
    "        \n",
    "        return stats"
   ]
  },
  {
   "cell_type": "markdown",
   "metadata": {},
   "source": [
    "### Beispiel Szenario\n",
    "Wir erstellen ein Standardszenario und lassen uns die schriftliche Beschreibung und die Übersichtskarte ausgeben. Danach ergänzen wir das Szenario um zwei Matches und lassen und das Ergbenis in Form eines bipartiten Graphens ausgeben."
   ]
  },
  {
   "cell_type": "code",
   "execution_count": 14,
   "metadata": {
    "collapsed": false
   },
   "outputs": [
    {
     "name": "stdout",
     "output_type": "stream",
     "text": [
      "Agenten: A1, A2\n",
      "Baustellen: B1, B2\n",
      "Supply: (A1, mauern, 10), (A1, baggern, 20), (A2, mauern, 15), (A2, baggern, 10)\n",
      "Demand: (B1, mauern, 7), (B1, baggern, 15), (B2, mauern, 8), (B2, baggern, 8)\n",
      "Budget: (B1, 9000000), (B2, 9000000)\n",
      "Costs: (A1, mauern, lambda k,d:(k/5+1)*d+200*k), (A1, baggern, lambda k,d:(k/3+1)*d+250*k), (A2, mauern, lambda k,d:(k/5+1)*d+200*k), (A2, baggern, lambda k,d:(k/3+1)*d+250*k)\n",
      "Matches: ()\n"
     ]
    },
    {
     "data": {
      "image/png": "[encoded data removed]",
      "text/plain": [
       "<matplotlib.figure.Figure at 0x105791210>"
      ]
     },
     "metadata": {},
     "output_type": "display_data"
    },
    {
     "name": "stdout",
     "output_type": "stream",
     "text": [
      "{'Kosten': 0, 'Umsatz': 0, 'Gewinn': 0, 'Requests': 38, 'Baustellen': 2, 'Requests offen': 38, 'Baustellen offen': 2}\n"
     ]
    }
   ],
   "source": [
    "'''\n",
    "scenario = Scenario()\n",
    "print scenario\n",
    "scenario.plotMap()\n",
    "print scenario.getStats()\n",
    "'''"
   ]
  },
  {
   "cell_type": "code",
   "execution_count": 15,
   "metadata": {
    "collapsed": false
   },
   "outputs": [
    {
     "name": "stdout",
     "output_type": "stream",
     "text": [
      "Agenten: A1, A2\n",
      "Baustellen: B1, B2\n",
      "Supply: (A1, mauern, 10), (A1, baggern, 20), (A2, mauern, 15), (A2, baggern, 10)\n",
      "Demand: (B1, mauern, 7), (B1, baggern, 15), (B2, mauern, 8), (B2, baggern, 8)\n",
      "Budget: (B1, 9000000), (B2, 9000000)\n",
      "Costs: (A1, mauern, lambda k,d:(k/5+1)*d+200*k), (A1, baggern, lambda k,d:(k/3+1)*d+250*k), (A2, mauern, lambda k,d:(k/5+1)*d+200*k), (A2, baggern, lambda k,d:(k/3+1)*d+250*k)\n",
      "Matches: (A1, B1, baggern, 5, 200000), (A1, B1, mauern, 2, 50000), (A1, B2, mauern, 3, 100000)\n"
     ]
    },
    {
     "data": {
      "image/png": "[encoded data removed]",
      "text/plain": [
       "<matplotlib.figure.Figure at 0x105791fd0>"
      ]
     },
     "metadata": {},
     "output_type": "display_data"
    },
    {
     "name": "stdout",
     "output_type": "stream",
     "text": [
      "['200000' '50000' '100000']\n",
      "[['A1' 'B1' 'baggern' '5' '200000' '13216']\n",
      " ['A1' 'B1' 'mauern' '2' '50000' '10522']\n",
      " ['A1' 'B2' 'mauern' '3' '100000' '47395']]\n",
      "{'Kosten': 71133, 'Umsatz': 350000, 'Gewinn': 278867, 'Requests': 38, 'Baustellen': 2, 'Requests offen': 28, 'Baustellen offen': 2}\n"
     ]
    }
   ],
   "source": [
    "'''\n",
    "scenario.match(scenario.agents[0], scenario.sites[0], 'baggern', 5, 200000)\n",
    "scenario.match(scenario.agents[0], scenario.sites[0], 'mauern', 2, 50000)\n",
    "scenario.match(scenario.agents[0], scenario.sites[1], 'mauern', 3, 100000)\n",
    "print scenario\n",
    "scenario.plotBiGraph()\n",
    "print scenario.getStats()\n",
    "'''"
   ]
  },
  {
   "cell_type": "markdown",
   "metadata": {},
   "source": [
    "## Szenariengenerator"
   ]
  },
  {
   "cell_type": "code",
   "execution_count": 9,
   "metadata": {
    "collapsed": false
   },
   "outputs": [],
   "source": [
    "def generateScenaries(agentsNumber=2, sitesNumber=3, skillsNumber=2, \\\n",
    "                      capacitiesNumber=(5,6,5), requestsNumber=(5,6)):\n",
    "    \n",
    "    # Wir arbeiten mit einem fest definierten Budget und Kostenfunktion \n",
    "    # für alle Baustellen und Baufirmen\n",
    "    budget = 500000\n",
    "    costF  = 'lambda k,d: (k/3+1)*d + 215*k'  \n",
    "    \n",
    "    # Erstellen der notwendigen Anzahl an Skills\n",
    "    skills = [Skill(\"Skill \" + str(skill)) for skill in range(skillsNumber)]\n",
    "    \n",
    "    # Skillkapazitäten und -requests in jeder vorgegebenen Anzahl\n",
    "    skillCaps = [SkillCap(skill, cn, costF) for cn in capacitiesNumber \\\n",
    "                                            for skill in skills]\n",
    "    skillReqs = [SkillReq(skill, rn) for rn in requestsNumber \\\n",
    "                                     for skill in skills]\n",
    "    \n",
    "    # mögliche Kombinationen aus gegebenen Kapazitäten und Request\n",
    "    # Dabei werden ignoriert: 1. leere Kapazitäten/Requests\n",
    "    #                         2. nur Kombinationen gleicher \n",
    "    #                            Skills\n",
    "    scenarieCaps = list()\n",
    "    for length in range(1, skillsNumber+1):\n",
    "        for subset in itertools.combinations(skillCaps, length):\n",
    "            \n",
    "            # nur Skillkapazitäten eines Skills\n",
    "            skillId = [elem.skill for elem in subset]\n",
    "            subsetDict = {x:skillId.count(x) for x in skillId}\n",
    "            if not any(val > 1 for val in subsetDict.values()):\n",
    "                scenarieCaps.append(subset)\n",
    "  \n",
    "    scenarieReqs = list()\n",
    "    for length in range(1, skillsNumber+1):\n",
    "        for subset in itertools.combinations(skillReqs, length):\n",
    "            \n",
    "            skillId = [elem.skill for elem in subset]\n",
    "            subsetDict = {x:skillId.count(x) for x in skillId}\n",
    "            if not any(val > 1 for val in subsetDict.values()):\n",
    "                scenarieReqs.append(subset)\n",
    "            \n",
    "            \n",
    "    # Koordinaten für die Agenten und Baustellen sind immer gleich\n",
    "    coordsAgent = [(random.uniform(0, mapWidth), random.uniform(0, mapHeight)) \\\n",
    "                   for an in range(agentsNumber)]\n",
    "    coordsSite  = [(random.uniform(0, mapWidth), random.uniform(0, mapHeight)) \\\n",
    "                   for sn in range(sitesNumber)]\n",
    "     \n",
    "    # erstellen der Agenten / Skillkapazitäten Kombinationen\n",
    "    agents = list()\n",
    "    for scAgents in itertools.product(scenarieCaps, repeat=agentsNumber):\n",
    "        agentsSc = list()\n",
    "        for an, cap in enumerate(scAgents):\n",
    "            agentsSc.append( Agent(cap, coordsAgent[an][0], coordsAgent[an][1]) )\n",
    "            \n",
    "        agents.append(agentsSc)\n",
    "    \n",
    "    # erstellen der Baustellen / Skillrequest Kombinationen\n",
    "    sites = list()\n",
    "    for scSites in itertools.product(scenarieReqs, repeat=sitesNumber):\n",
    "        sitesSc = list()\n",
    "        for sn, req in enumerate(scSites):\n",
    "            sitesSc.append( Site(req, budget, coordsSite[sn][0], coordsSite[sn][1]) )\n",
    "            \n",
    "        sites.append(sitesSc)\n",
    "    \n",
    "    # Szenarien erstellen\n",
    "    scenaries = list()\n",
    "    for sc in itertools.product(agents, sites):\n",
    "        scenaries.append(Scenario(agents=sc[0], sites=sc[1]))\n",
    "              \n",
    "    return scenaries"
   ]
  },
  {
   "cell_type": "code",
   "execution_count": 11,
   "metadata": {
    "collapsed": false
   },
   "outputs": [
    {
     "data": {
      "image/png": "[encoded data removed]",
      "text/plain": [
       "<matplotlib.figure.Figure at 0x10d9107d0>"
      ]
     },
     "metadata": {},
     "output_type": "display_data"
    }
   ],
   "source": [
    "# Szenario Denis - exchangeable agents\n",
    "'''\n",
    "mapWidth = 500\n",
    "mapHeight = 175\n",
    "\n",
    "skA = Skill(\"Skill A\")\n",
    "skB = Skill(\"Skill B\")\n",
    "costF = 'lambda k,d:(k/5+1)*d+200*k'\n",
    "\n",
    "siteAB  = Site([SkillReq(skA, 1), SkillReq(skB, 1)], 500, x=250, y=125)\n",
    "\n",
    "agentA1 = Agent([SkillCap(skA, 1, costF), ], x=100, y=125)\n",
    "agentA2 = Agent([SkillCap(skA, 1, costF), ], x=400, y=125)\n",
    "agentB  = Agent([SkillCap(skB, 1, costF), ], x=250, y= 50)\n",
    "sc = Scenario(agents=[agentA1, agentA2, agentB], sites=[siteAB, ])\n",
    "sc.plotMap()\n",
    "'''"
   ]
  }
 ],
 "metadata": {
  "kernelspec": {
   "display_name": "Python 2",
   "language": "python",
   "name": "python2"
  },
  "language_info": {
   "codemirror_mode": {
    "name": "ipython",
    "version": 2
   },
   "file_extension": ".py",
   "mimetype": "text/x-python",
   "name": "python",
   "nbconvert_exporter": "python",
   "pygments_lexer": "ipython2",
   "version": "2.7.12"
  }
 },
 "nbformat": 4,
 "nbformat_minor": 0
}

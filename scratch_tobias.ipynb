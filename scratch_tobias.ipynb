{
 "cells": [
  {
   "cell_type": "code",
   "execution_count": 1,
   "metadata": {
    "button": false,
    "collapsed": false,
    "deletable": true,
    "run_control": {
     "read_only": false
    }
   },
   "outputs": [],
   "source": [
    "%matplotlib inline\n",
    "\n",
    "import matplotlib\n",
    "import numpy as np\n",
    "import networkx as nx\n",
    "import matplotlib.pyplot as plt\n",
    "import random\n",
    "\n",
    "from networkx.algorithms import bipartite"
   ]
  },
  {
   "cell_type": "code",
   "execution_count": 2,
   "metadata": {
    "collapsed": false
   },
   "outputs": [],
   "source": [
    "\"\"\"\n",
    "Definitions\n",
    "\"\"\"\n",
    "random.seed('Zufall!!')\n",
    "mapWidth = mapHeight = 250"
   ]
  },
  {
   "cell_type": "markdown",
   "metadata": {},
   "source": [
    "### Skills\n",
    "Im Folgenden wird die Klasse _Skills_ implementiert. Sie repräsentiert einen Skill mit definierten Namen. Wird kein Name zur Initialisierung übergeben, wird ein Namen aus der ID (fortlaufende Nummer über alle initialisierten Skills) generiert.\n",
    "Danach werden beispielhaft vier Skills initialisiert. "
   ]
  },
  {
   "cell_type": "code",
   "execution_count": 3,
   "metadata": {
    "collapsed": false
   },
   "outputs": [],
   "source": [
    "class Skill:\n",
    "    count = 0\n",
    "    \n",
    "    def __init__(self, name=None):\n",
    "        self._id = Skill.count\n",
    "        Skill.count += 1\n",
    "        \n",
    "        if name is None:\n",
    "            self.name = \"Skill \" + str(self._id)\n",
    "        else:\n",
    "            self.name = name\n",
    "            \n",
    "            \n",
    "    def __str__(self):\n",
    "        return self.name"
   ]
  },
  {
   "cell_type": "code",
   "execution_count": 4,
   "metadata": {
    "collapsed": false
   },
   "outputs": [
    {
     "name": "stdout",
     "output_type": "stream",
     "text": [
      "Skills: baggern, mauern, heben, mischen\n"
     ]
    }
   ],
   "source": [
    "sBaggern = Skill(\"baggern\"); sMauern = Skill(\"mauern\")\n",
    "sHeben = Skill(\"heben\"); sMischen = Skill(\"mischen\"); \n",
    "\n",
    "skills = [sBaggern, sMauern, sHeben, sMischen, ]\n",
    "print \"Skills: \" + \", \".join([str(skill) for skill in skills])"
   ]
  },
  {
   "cell_type": "markdown",
   "metadata": {},
   "source": [
    "## Skillkapazitäten und Agenten (Baufirma)\n",
    "### Skillkapazität\n",
    "Agenten (Baufirmen) bieten Skills nicht einzeln, sondern als Skillkapazität (Klasse `SkillCap`) an (in einer Skillkapazität kann der Skill nur einmal vorhanden sein). Die Kosten des Agentens für die Bereitstellung der kompletten Skillkapazität oder eines Teiles werden über eine spezifische Kostenfunktion berechnet. Diese wird bei der Initialisierung der Klasse übergeben und errechnet die Kosten auf Grundlage der Menge des angeforderten Skills und der Entfernung zwischen Agent und Baustelle. Es wird hier also die Relation »$Costs(x, k, s, d):\\Leftrightarrow$ Kosten des Agenten $x$ für den Transport von $k$ Einheiten des Skills $s$ über die Distanz $d$« als Funktion für jede Skillkapazität verwaltet.\n",
    "\n",
    "Beispielhaft initialisieren wir zwei verschiedenen Skillkapazitäten mit unterschiedlicher Kostenfunktion und lassen uns zwei Preise ermitteln."
   ]
  },
  {
   "cell_type": "code",
   "execution_count": 5,
   "metadata": {
    "collapsed": false
   },
   "outputs": [],
   "source": [
    "class SkillCap:\n",
    "    count = 0\n",
    "    \n",
    "    def __init__(self, skill, capacity, costFunction):\n",
    "        \"\"\" Initialisiere eine Skillkapazität mit Skill, Menge und Kostenfunktion. \"\"\"\n",
    "        \n",
    "        self._id = SkillCap.count\n",
    "        SkillCap.count += 1\n",
    "        \n",
    "        self.skill = skill\n",
    "        self.capacity = self.actCapacity = capacity\n",
    "        self.costFunction = costFunction\n",
    "        self.costF = eval(costFunction)\n",
    "        \n",
    "    def __str__(self):\n",
    "        return \"C-\" + str(self.skill) + \"(\" + str(self.actCapacity) + \")\"\n",
    "    \n",
    "    \n",
    "    def costs(self, distance, count):\n",
    "        \"\"\" Kosten für eine Menge der Skillkapazität. \"\"\"\n",
    "        \n",
    "        if  0 < count and count <= self.actCapacity:\n",
    "            return self.costF(count, distance)\n",
    "        else:\n",
    "            raise Exception(\"SkillCap\", \"getCosts()\")"
   ]
  },
  {
   "cell_type": "code",
   "execution_count": 6,
   "metadata": {
    "collapsed": false
   },
   "outputs": [
    {
     "name": "stdout",
     "output_type": "stream",
     "text": [
      "Skillkapazitäten: C-baggern(10), C-mauern(8)\n",
      "Kosten für 2 Items sk0, Distanz 5: 405\n",
      "Kosten für 4 Items sk0, Distanz 5: 810\n"
     ]
    }
   ],
   "source": [
    "sk0 = SkillCap(sBaggern, 10, 'lambda k,d: (k/3+1)*d + 200*k')  # 10 items, 3 items per shipment, one item 200\n",
    "sk1 = SkillCap(sMauern,   8, 'lambda k,d: (k/3+1)*d + 215*k')  #  8 items, 3 items per shipment, one item 215\n",
    "print \"Skillkapazitäten: \" + str(sk0) + \", \" + str(sk1)\n",
    "\n",
    "print \"Kosten für 2 Items sk0, Distanz 5: \" + str(sk0.costs(5, 2))\n",
    "print \"Kosten für 4 Items sk0, Distanz 5: \" + str(sk0.costs(5, 4))"
   ]
  },
  {
   "cell_type": "markdown",
   "metadata": {},
   "source": [
    "### Agent (Baufirma)\n",
    "Eine Agent (Baufirma, Klasse `Agent`) sitzt in unserem Spiel auf einem bestimmten Punkt im 2D-Raum und hält Skillkapazitäten bereit. Im Laufe des Spiel verkauft er diese an Baustellen. In dieser Klasse wird für den instanziierten Agenten $x$ die Relation »$Supply(x, k, s) :\\Leftrightarrow$ Agent $x$ besitzt $k$ Einheiten vom Skill $s$« verwaltet. Die Relation $Costs(x, k, s, d)$ kann bei dem Agenten für alle seine Skillkapazitäten abgefragt werden.\n",
    "\n",
    "Im Folgenden definieren wir zwei verschiedenen Skillkapazitäten und erstellen einen Agenten mit diesen. Dieser verkauft zwei Einheiten \"baggern\" an eine Baustelle, die 5 Einheiten entfernt liegt."
   ]
  },
  {
   "cell_type": "code",
   "execution_count": 7,
   "metadata": {
    "button": false,
    "collapsed": false,
    "deletable": true,
    "run_control": {
     "read_only": false
    }
   },
   "outputs": [],
   "source": [
    "class Agent:\n",
    "    count = 0\n",
    "    \n",
    "    def __init__(self, skillCaps, x=(random.uniform(0, mapWidth)), y=(random.uniform(0, mapHeight)) ):\n",
    "        \"\"\" Initialisieren eines Agenten mit übergebenen Skillkapazitäten. Werden keine Koordinaten übergeben, \n",
    "            wird der Agent zufällig auf der Karte platziert. \"\"\"\n",
    "        \n",
    "        self._id = \"A\"+str(Agent.count)\n",
    "        Agent.count += 1\n",
    "        \n",
    "        self.x, self.y = x, y\n",
    "        self.skillCaps = skillCaps\n",
    "    \n",
    "    \n",
    "    def __str__(self):\n",
    "        skillString = \"\"\n",
    "        if len(self.skillCaps) > 0:\n",
    "            skillString = \": \" + \", \".join([str(skillCap) for skillCap in self.skillCaps])\n",
    "        \n",
    "        return(\"Agent \" + str(self._id) + skillString)\n",
    "    \n",
    "    \n",
    "    @property\n",
    "    def supply(self):  # Agent, Skill, Menge\n",
    "        return np.array([(self._id, str(skillCap.skill), str(skillCap.capacity)) for skillCap in self.skillCaps])\n",
    "    \n",
    "    @property\n",
    "    def costs(self):  # Agent, Skill, Kostenfunktion\n",
    "        return np.array([(self._id, str(skillCap.skill), skillCap.costFunction) for skillCap in self.skillCaps])\n",
    "    \n",
    "        \n",
    "    def sell(self, skill, count, distance):\n",
    "        \"\"\" Verkaufen eines Teiles oder einer gesamten Skillkapazität. \n",
    "            Die Kosten für den Agenten nach der Kostenfunktion der Skillkapazität\n",
    "            werden zurückgegeben. \"\"\" \n",
    "        \n",
    "        # find skillCap for this skill\n",
    "        skillCap = [skillC for skillC in self.skillCaps if skillC.skill == skill][0]\n",
    "               \n",
    "        if skillCap is not None and 0 < skillCap.count and count <= skillCap.actCapacity:\n",
    "            skillCap.actCapacity -= count\n",
    "            return skillCap.costF(distance, count)\n",
    "        else:\n",
    "            raise Exception(\"Agent\", \"sell()\")"
   ]
  },
  {
   "cell_type": "code",
   "execution_count": 8,
   "metadata": {
    "collapsed": false
   },
   "outputs": [
    {
     "name": "stdout",
     "output_type": "stream",
     "text": [
      "Agent A0: C-baggern(10), C-mauern(8)\n",
      "Agent verkauft 2 Einheiten \"baggern\" über die Distanz 5 mit den Kosten 1004\n",
      "Agent A0: C-baggern(8), C-mauern(8)\n"
     ]
    }
   ],
   "source": [
    "agent0 = Agent((sk0, sk1))\n",
    "print agent0\n",
    "\n",
    "print \"Agent verkauft 2 Einheiten \\\"baggern\\\" über die Distanz 5 mit den Kosten \" + str(agent0.sell(sBaggern, 2, 5))\n",
    "print agent0"
   ]
  },
  {
   "cell_type": "markdown",
   "metadata": {
    "button": false,
    "deletable": true,
    "run_control": {
     "read_only": false
    }
   },
   "source": [
    "## Ausschreibungen und Baustellen\n",
    "### Ausschreibung\n",
    "In einer Ausschreibung (Klasse `SkillReq`) wird die von einer Baustelle gewünschte Menge eines Skills festgehalten. Beispielhaft erstellen wir zwei Requests."
   ]
  },
  {
   "cell_type": "code",
   "execution_count": 9,
   "metadata": {
    "collapsed": false
   },
   "outputs": [],
   "source": [
    "class SkillReq:\n",
    "    count = 0\n",
    "    \n",
    "    def __init__(self, skill, amount):\n",
    "        \"\"\" Initialisiere einer Ausschreibung mit Skill und Menge. \"\"\"\n",
    "    \n",
    "        self._id = SkillReq.count\n",
    "        SkillReq.count += 1\n",
    "        \n",
    "        self.skill = skill\n",
    "        self.amount = self.actAmount = amount\n",
    "    \n",
    "    \n",
    "    def __str__(self):\n",
    "        return \"R-\" + str(self.skill) + \"(\" + str(self.actAmount) + \")\""
   ]
  },
  {
   "cell_type": "code",
   "execution_count": 10,
   "metadata": {
    "collapsed": false
   },
   "outputs": [
    {
     "name": "stdout",
     "output_type": "stream",
     "text": [
      "Requests: R-baggern(5), R-baggern(5)\n"
     ]
    }
   ],
   "source": [
    "req0 = SkillReq(sBaggern, 5); req1 = SkillReq(sBaggern, 5)\n",
    "print \"Requests: \" + str(req0) + \", \" + str(req1)"
   ]
  },
  {
   "cell_type": "markdown",
   "metadata": {},
   "source": [
    "### Baustelle\n",
    "Im Laufe des Spiel sind es die Baustellen, deren Ausschreibungen im Rahmen ihres Budgets möglichst preiswert von den Agenten erfüllt werden sollen. Auch sie sind fest im Koordinatensystem einem Ort zugeordnet.\n",
    "\n",
    "Beispielhaft wird eine Baustelle mit Budget 2.000 erstellt, die fünf Einheiten \"baggern\" und \"mauern\" benötigt. Sie kauft im Folgenden 3 Einheiten des Skills \"baggern\" für 1.200."
   ]
  },
  {
   "cell_type": "code",
   "execution_count": 11,
   "metadata": {
    "button": false,
    "collapsed": false,
    "deletable": true,
    "run_control": {
     "read_only": false
    }
   },
   "outputs": [],
   "source": [
    "class Site:\n",
    "    count = 0\n",
    "    \n",
    "    def __init__(self, requests, budget, x=(random.uniform(0, mapWidth)), y=(random.uniform(0, mapHeight)) ):\n",
    "        \"\"\" Initialisiere einer Baustelle mit übergebenen Request. Werden keine Koordinaten übergeben, \n",
    "            wird die Baustelle zufällig auf der Karte platziert. \"\"\"\n",
    "        \n",
    "        self._id = \"B\"+str(Site.count)\n",
    "        Site.count += 1\n",
    "        \n",
    "        self.x, self.y = x, y\n",
    "        self.requests = requests\n",
    "        self.bud = self.actBudget = budget\n",
    "    \n",
    "    def __str__(self):\n",
    "        requestString = \"\"\n",
    "        if len(self.requests) > 0:\n",
    "            requestString = \": \" + \", \".join([str(request) for request in self.requests])\n",
    "        \n",
    "        return(\"Baustelle \" + str(self._id) + \" (Budget: \" + str(self.actBudget) + \")\" + requestString)\n",
    "    \n",
    "    @property\n",
    "    def demand(self):  # Baustelle, Skill, Menge\n",
    "        return np.array([(self._id, str(request.skill), request.amount) for request in self.requests])\n",
    "    \n",
    "    @property\n",
    "    def budget(self):  # Baustelle, Budget\n",
    "        return [self._id, self.bud]\n",
    "    \n",
    "    def buy(self, skill, count, price):\n",
    "        \"\"\" Kaufen einer Menge des Skills: Der Request wird entsprechend angepasst. \"\"\"\n",
    "        \n",
    "        # find skillReq for this skill\n",
    "        skillReq = [skillR for skillR in self.requests if skillR.skill == skill][0]\n",
    "               \n",
    "        if skillReq is not None and 0 < skillReq.actAmount and count <= skillReq.actAmount:\n",
    "            skillReq.actAmount -= count\n",
    "            self.actBudget -= price\n",
    "        else:\n",
    "            raise Exception(\"Site\", \"buy()\")"
   ]
  },
  {
   "cell_type": "code",
   "execution_count": 12,
   "metadata": {
    "collapsed": false
   },
   "outputs": [
    {
     "name": "stdout",
     "output_type": "stream",
     "text": [
      "Baustelle B0 (Budget: 2000): R-baggern(5), R-baggern(5)\n",
      "Baustelle kauft drei Einheiten \"baggern\" für 1020 \n",
      "Baustelle B0 (Budget: 980): R-baggern(2), R-baggern(5)\n"
     ]
    }
   ],
   "source": [
    "site0 = Site([req0, req1], 2000)\n",
    "\n",
    "print site0\n",
    "site0.buy(sBaggern, 3, 1020)\n",
    "print \"Baustelle kauft drei Einheiten \\\"baggern\\\" für 1020 \\n\" + str(site0)"
   ]
  },
  {
   "cell_type": "markdown",
   "metadata": {
    "button": false,
    "deletable": true,
    "run_control": {
     "read_only": false
    }
   },
   "source": [
    "## Szenario\n",
    "Ein Szenario ist bei uns ein Spiel, dessen Zustand durch seine Signatur beschrieben werden kann. Über diese Klasse `Scenario` kann auf verschiedene Arten ein Szenario definiert werden (siehe Kommentar in der Initialisierung) und damit "
   ]
  },
  {
   "cell_type": "code",
   "execution_count": 13,
   "metadata": {
    "collapsed": false
   },
   "outputs": [],
   "source": [
    "class Scenario:\n",
    "    \n",
    "    \n",
    "    def __init__(self, agentCount=2, siteCount=2, skills=[Skill(\"mauern\"), Skill(\"baggern\")], \\\n",
    "                 skillCap=[[10,20],[15,10]], skillReq=[[7,15],[8,8]], budget=[100000], \\\n",
    "                 costFunction=[['lambda k,d:(k/5+1)*d+200*k', 'lambda k,d:(k/3+1)*d+250*k']], \\\n",
    "                 agents=None, sites=None):\n",
    "        \"\"\" Initialisierung eines Szenarios: Ohne die weitere Angabe von Parametern wird ein Szenario mit zwei Agenten \n",
    "            und einer Baustelle erstellt, die zwei Skills (\"mauern\" und \"baggern\") in der Menge (10,20) für Agent 1 \n",
    "            und (15,10) für Agent 2 als Skillkapazität besitzen bzw. Baustelle 1 (7,15) und Baustelle 2 (8,8) suchen.\n",
    "            Es gibt für die Skillkapazitäten Standardkostenfunktionen, die z.B. für den ersten Skill von Kosten von \n",
    "            200 per item und Shipmentkosten von $distance je 5 items ausgeht. Von dem dritten Skill könne nur 3 auf \n",
    "            einmal transportiert werden und eine Einheit kostet 250. Das Defaultbudget der Baustellen beträgt 100.000. \n",
    "            \n",
    "            Alternativ hätte auch für jeden Agenten eine eigene Kostenfunktion bzw. jede Baustelle ein eigenes Budget \n",
    "            definiert werden können. Wenn Baustellen und Agenten bereits der Funktion übergeben werden (als Iterable),\n",
    "            so werden diese benutzt. \"\"\"\n",
    "        \n",
    "        self.skills = skills\n",
    "        self.sales  = None\n",
    "        \n",
    "        # Are there complete sites? ############\n",
    "        if sites is not None:\n",
    "            self.sites = sites\n",
    "        else:\n",
    "            # check if budget sitewise or for all sites?\n",
    "            if len(budget) == 1:\n",
    "                budget = budget * siteCount\n",
    "            elif len(budget) != siteCount:\n",
    "                raise Exception(\"Scenario\", \"__init__()\", \"site-budget\")\n",
    "            \n",
    "            # check skill requests\n",
    "            if len(skillReq) == 1:\n",
    "                skillReq = skillReq * siteCount\n",
    "            elif len(skillReq) != siteCount:\n",
    "                raise Exception(\"Scenario\", \"__init__()\", \"site-requests\")\n",
    "                \n",
    "            # create sites\n",
    "            self.sites = list()\n",
    "            for site in range(siteCount):\n",
    "                \n",
    "                # create Skill Requests\n",
    "                sk = list()\n",
    "                if len(skillReq[site]) == len(skills):\n",
    "                    for i, skill in enumerate(skills):\n",
    "                        sk.append(SkillReq(skill, skillReq[site][i]))\n",
    "                elif len(skillReq) != siteCount:\n",
    "                    raise Exception(\"Scenario\", \"__init__()\", \"site-requests-creation\")\n",
    "\n",
    "                self.sites.append(Site(sk, budget[site]))\n",
    "        \n",
    "        # Are there complete agents? ############\n",
    "        if agents is not None:\n",
    "            self.agents = agents\n",
    "        else:\n",
    "            # check if costFunction sitewise or for all sites?\n",
    "            if len(costFunction) == 1:\n",
    "                costFunction = costFunction * agentCount\n",
    "            elif len(costFunction) != agentCount:\n",
    "                raise Exception(\"Scenario\", \"__init__()\", \"agent-costFunction\")\n",
    "            \n",
    "            # check skill capacities\n",
    "            if len(skillCap) == 1:\n",
    "                skillCap = skillCap * agentCount\n",
    "            elif len(skillCap) != agentCount:\n",
    "                raise Exception(\"Scenario\", \"__init__()\", \"aget-capabilities\")\n",
    "                \n",
    "            # create agents\n",
    "            self.agents = list()\n",
    "            for agent in range(agentCount):\n",
    "                \n",
    "                # create Skill Capacities\n",
    "                sk = list()\n",
    "                if len(skillCap[agent]) == len(skills):\n",
    "                    for i, skill in enumerate(skills):\n",
    "                        sk.append(SkillCap(skill, skillCap[agent][i], costFunction[agent][i]))\n",
    "                elif len(skillReq) != siteCount:\n",
    "                    raise Exception(\"Scenario\", \"__init__()\", \"agent-cap-creation\")\n",
    "                    \n",
    "                self.agents.append(Agent(sk))\n",
    "     \n",
    "        \n",
    "    def __str__(self):\n",
    "        \"\"\" Ausgabe des Szenarios in der definierten Algebra-Schreibweise. \"\"\"\n",
    "        \n",
    "        supply  = [ \", \".join([elem[0], elem[1], elem[2]]) for elem in list(self.supply)]\n",
    "        demand  = [ \", \".join([elem[0], elem[1], elem[2]]) for elem in list(self.demand)]\n",
    "        budget  = [ \", \".join([elem[0], elem[1]]) for elem in list(self.budget)]\n",
    "        costs   = [ \", \".join([elem[0], elem[1], elem[2]]) for elem in list(self.costs)]\n",
    "        matches = [ \", \".join([elem[0], elem[1], elem[2], elem[3]]) for elem in list(self.matches)]\n",
    "        \n",
    "        return \"Agenten: \" + \", \".join(self.agent) + \"\\nBaustellen: \" + \", \".join(self.site) + \"\\n\" + \\\n",
    "               \"Supply: \" +  \"(\"+\"), (\".join(supply)+\")\" + \"\\nDemand: \" +\"(\"+\"), (\".join(demand)+\")\\n\" + \\\n",
    "               \"Budget: \" + \"(\"+\"), (\".join(budget)+\")\" + \"\\nCosts: \" +\"(\"+\"), (\".join(costs)+\")\\n\" + \\\n",
    "               \"Matches: \"+ \"(\"+\"), (\".join(matches)+\")\" \n",
    "    \n",
    "    @property\n",
    "    def agent(self):   # Agent\n",
    "        return np.array([agent._id for agent in self.agents])\n",
    "    \n",
    "    @property\n",
    "    def site(self):    # Baustelle\n",
    "        return np.array([site._id for site in self.sites])\n",
    "                                           \n",
    "    @property\n",
    "    def supply(self):  # Agent, Skill, Menge\n",
    "        return np.concatenate([agent.supply for agent in self.agents], axis=0)\n",
    "    \n",
    "    @property\n",
    "    def demand(self):  # Baustelle, Skill, Menge\n",
    "        return np.concatenate([site.demand for site in self.sites], axis=0)\n",
    "    \n",
    "    @property\n",
    "    def budget(self):  # Baustelle, Budget\n",
    "        return np.array([site.budget for site in self.sites])\n",
    "    \n",
    "    @property\n",
    "    def costs(self):   # Agent, Skill, Kostenfunktion\n",
    "        return np.concatenate([agent.costs for agent in self.agents])\n",
    "    \n",
    "    @property\n",
    "    def matches(self): # Agent, Baustelle, Skill, Menge, Preis\n",
    "        return self.sales[0:4] if self.sales is not None else list()\n",
    "    \n",
    "    \n",
    "    def match(self, agent, site, skill, amount, price):\n",
    "        \"\"\" Über diese Funktion wird ein Verkaufsvorgang durchgeführt bzw. ein Matching eingetragen. \n",
    "            Dieser Vorgang wird beschrieben durch den verkaufenden Agente, der kaufenden Baustelle, \n",
    "            den verhandelten Skill und den von der Baustelle bezahlten Preis. Damit wird bessere \"\"\"\n",
    "        \n",
    "        # Kriegen wir Objekte oder IDs?\n",
    "        if isinstance(agent, basestring): \n",
    "            agent = [elem for elem in self.agents if elem._id == agent][0]\n",
    "        if isinstance(site, basestring): \n",
    "            site = [elem for elem in self.sites if elem._id == site][0]\n",
    "        if isinstance(skill, basestring): \n",
    "            skill = [elem for elem in self.skills if str(elem) == skill][0]\n",
    "        \n",
    "        costs = agent.sell(skill, amount, self.distance(agent, site))\n",
    "        site.buy(skill, amount, price)\n",
    "        if self.sales is None:\n",
    "            self.sales = np.array([[agent._id, site._id, str(skill), str(amount), price, costs]])\n",
    "        else:\n",
    "            self.sales = np.vstack([self.sales, [[agent._id, site._id, str(skill), str(amount), price, costs]]])\n",
    "            \n",
    "\n",
    "    def distance(self, a, b):\n",
    "        \"\"\" Euklidische Distanz zwischen den zwei Punkten a und b mit den jeweiligen Koordinaten \n",
    "            x und y im zweidimensionalen Koordinatensystem. \"\"\"\n",
    "        return ( ((a.x-b.x)**2) + ((a.y-b.y)**2) )**0.5\n",
    "    \n",
    "    \n",
    "    #def plotBiGraph(self):\n",
    "        \n",
    "        \n",
    "    #def plotMap(self):\n",
    "    \n",
    "    "
   ]
  },
  {
   "cell_type": "code",
   "execution_count": 14,
   "metadata": {
    "collapsed": false
   },
   "outputs": [
    {
     "name": "stdout",
     "output_type": "stream",
     "text": [
      "Agenten: A1, A2\n",
      "Baustellen: B1, B2\n",
      "Supply: (A1, mauern, 10), (A1, baggern, 20), (A2, mauern, 15), (A2, baggern, 10)\n",
      "Demand: (B1, mauern, 7), (B1, baggern, 15), (B2, mauern, 8), (B2, baggern, 8)\n",
      "Budget: (B1, 100000), (B2, 100000)\n",
      "Costs: (A1, mauern, lambda k,d:(k/5+1)*d+200*k), (A1, baggern, lambda k,d:(k/3+1)*d+250*k), (A2, mauern, lambda k,d:(k/5+1)*d+200*k), (A2, baggern, lambda k,d:(k/3+1)*d+250*k)\n",
      "Matches: ()\n"
     ]
    }
   ],
   "source": [
    "scenario = Scenario()\n",
    "print scenario"
   ]
  },
  {
   "cell_type": "code",
   "execution_count": 15,
   "metadata": {
    "collapsed": false
   },
   "outputs": [
    {
     "name": "stdout",
     "output_type": "stream",
     "text": [
      "Agenten: A1, A2\n",
      "Baustellen: B1, B2\n",
      "Supply: (A1, mauern, 10), (A1, baggern, 20), (A2, mauern, 15), (A2, baggern, 10)\n",
      "Demand: (B1, mauern, 7), (B1, baggern, 15), (B2, mauern, 8), (B2, baggern, 8)\n",
      "Budget: (B1, 100000), (B2, 100000)\n",
      "Costs: (A1, mauern, lambda k,d:(k/5+1)*d+200*k), (A1, baggern, lambda k,d:(k/3+1)*d+250*k), (A2, mauern, lambda k,d:(k/5+1)*d+200*k), (A2, baggern, lambda k,d:(k/3+1)*d+250*k)\n",
      "Matches: (A1, B1, baggern, 5)\n"
     ]
    }
   ],
   "source": [
    "scenario.match('A1', 'B1', 'baggern', 5, 2000)\n",
    "print scenario"
   ]
  },
  {
   "cell_type": "code",
   "execution_count": 16,
   "metadata": {
    "collapsed": false
   },
   "outputs": [
    {
     "name": "stdout",
     "output_type": "stream",
     "text": [
      "Agenten: A1, A2\n",
      "Baustellen: B1, B2\n",
      "Supply: (A1, mauern, 10), (A1, baggern, 20), (A2, mauern, 15), (A2, baggern, 10)\n",
      "Demand: (B1, mauern, 7), (B1, baggern, 15), (B2, mauern, 8), (B2, baggern, 8)\n",
      "Budget: (B1, 100000), (B2, 100000)\n",
      "Costs: (A1, mauern, lambda k,d:(k/5+1)*d+200*k), (A1, baggern, lambda k,d:(k/3+1)*d+250*k), (A2, mauern, lambda k,d:(k/5+1)*d+200*k), (A2, baggern, lambda k,d:(k/3+1)*d+250*k)\n",
      "Matches: (A1, B1, baggern, 5), (A1, B1, mauern, 3)\n"
     ]
    }
   ],
   "source": [
    "scenario.match('A1', 'B1', 'mauern', 3, 1000)\n",
    "print scenario"
   ]
  }
 ],
 "metadata": {
  "kernelspec": {
   "display_name": "Python 2",
   "language": "python",
   "name": "python2"
  },
  "language_info": {
   "codemirror_mode": {
    "name": "ipython",
    "version": 2
   },
   "file_extension": ".py",
   "mimetype": "text/x-python",
   "name": "python",
   "nbconvert_exporter": "python",
   "pygments_lexer": "ipython2",
   "version": "2.7.6"
  }
 },
 "nbformat": 4,
 "nbformat_minor": 0
}

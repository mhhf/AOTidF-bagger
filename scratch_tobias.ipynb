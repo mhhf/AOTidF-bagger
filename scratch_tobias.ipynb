{
 "cells": [
  {
   "cell_type": "markdown",
   "metadata": {
    "button": false,
    "deletable": true,
    "run_control": {
     "read_only": false
    }
   },
   "source": [
    "## Recap\n",
    "Die erste Idee sah ein Commitment-Verfahren zur Festschreibung der Entlohnung/Kompensation zwischen der Baustelle und der Baufirma bzw. Baufirma und Baufirma bei Koalitionen mit mehreren teilnehmenden Baufirmen vor. \n",
    "\n",
    "## Neue Ansatz: Reverse Auctions\n",
    "Eine Baustelle hat eine maximale Summe an Geld, die ausgegeben werden kann. Agenten (Baufirma) $a$ bietet zu einem geheim generierten Preis $Preis_{a}(S_{SK_1}(K))$ eine seiner Skillkapazitäten $S_{SK_1}(K)$ vom Skill $SK_1$ an. Der Payoff eines Agenten bei diesem Preis ist $Payoff_{a}(S_{SK_1}(K)) = Preis_{a}(S_{SK_1}(K)) - ( K*Preis(SK_1) + Transaktionskosten)$.\n",
    "\n",
    "Transaktionskosten bestehen aus zwei Bestandteilen: Die Bereitstellungskosten auf Grundlage der Entfernung zur Baustelle machen neben den Verwaltungskosten den größten Anteil aus. Verwaltungskosten fallen für die Baufirma nur einmal für jede Baustelle an, auch wenn mehrere Skillkapazitäten versteigert werden.\n",
    "\n",
    "Solange noch keine Koalition gefunden ist, d.h. alle Anforderung an Skillkapazitäten der Baustelle befriedigt sind mit einem Preis, der in der Summe kleiner ist als der Maximalpreis der Baustelle, wird auktioniert. Sobald ein Zustand auftritt, dass kein günstigerer Preis für eine Skillkapazität angeboten wird, wird diese vergeben. Die noch zu vergebenen Skillkapazitäten der Baustelle werden weiter auktioniert.\n",
    "\n",
    "\n",
    "### Derzeitige Vereinfachungen:\n",
    "* Kommunikation findet nicht zur Absprache statt: Baufirmen verhandeln über Koalitionen indirekt durch Reverse Auction\n",
    "* rundenbasierte Betrachtung des Spielverlaufs: In fest definierten Phasen werden Angebote ausgeschrieben, Angebote generiert, Ergebnisse der Reverse Auction bekanntgegeben.\n",
    "* rundenbasierte Betrachtung der Auktionen: keine Berücksichtigung der Zeit bei der Kommunikation, wodurch z.B. kein Vorteil durch schnellere Kommunkation entsteht.\n",
    "* Transaktionskosten bestehen aus Bereitstellungskosten und Verwaltungskosten: Bereitstellungskosten fallen je Skill in definierten Schritten an, Verwaltungskosten je Baustelle.\n",
    "* Skillkapazitäten werden nicht als Paket angeboten, sondern jede Skillkapazität einzeln\n",
    "\n",
    "### Offene Fragen\n",
    "* Welche Information bekommen die Agenten über den Ausgang der Auktion?\n",
    "* Wie können wir plausible Testdaten generieren?\n",
    "\n",
    "### mögliche Fragestellungen\n",
    "* Unter welchen Voraussetzungen konvergiert die Zuteilung wie?\n",
    "* Was verändert die Einführung von Reverse Auctions bei Baufirmne über einzelne Skillkapazitäten als lokale Optimierung?\n",
    "* Gibt es eine global optimale Lösung und wie sieht diese strukturell aus?"
   ]
  },
  {
   "cell_type": "code",
   "execution_count": 13,
   "metadata": {
    "button": false,
    "collapsed": true,
    "deletable": true,
    "run_control": {
     "read_only": false
    }
   },
   "outputs": [],
   "source": [
    "%matplotlib inline"
   ]
  },
  {
   "cell_type": "code",
   "execution_count": 48,
   "metadata": {
    "button": false,
    "collapsed": false,
    "deletable": true,
    "run_control": {
     "read_only": false
    }
   },
   "outputs": [],
   "source": [
    "import matplotlib.pyplot as plt\n",
    "import numpy as np\n",
    "import random\n",
    "import networkx as nx\n",
    "from networkx.algorithms import bipartite"
   ]
  },
  {
   "cell_type": "markdown",
   "metadata": {
    "button": false,
    "deletable": true,
    "run_control": {
     "read_only": false
    }
   },
   "source": [
    "### Agent/ Firma"
   ]
  },
  {
   "cell_type": "code",
   "execution_count": 15,
   "metadata": {
    "button": false,
    "collapsed": false,
    "deletable": true,
    "run_control": {
     "read_only": false
    }
   },
   "outputs": [],
   "source": [
    "class A:\n",
    "    count = 0\n",
    "    def __init__(self, rs, x=(random.uniform(0,100)), y=(random.uniform(0,100))):\n",
    "        self.x = x\n",
    "        self.y = y\n",
    "        self.rs = rs # The ammount of resources each agent has\n",
    "        self._id = A.count # Its itentifier \n",
    "        A.count = A.count + 1\n",
    "        \n",
    "    # Format the output to the form: \"A0 {R1(2), R2(4), R3(11)}\"\n",
    "    def __str__(self):\n",
    "        return(\"A\"+str(self._id)+\": {\"+\", \".join(\"R\"+str(i)+\"(\"+str(x)+\")\" for i, x in enumerate(self.rs))+\"}\")"
   ]
  },
  {
   "cell_type": "code",
   "execution_count": 16,
   "metadata": {
    "button": false,
    "collapsed": false,
    "deletable": true,
    "run_control": {
     "read_only": false
    }
   },
   "outputs": [],
   "source": [
    "a = A([1,2,3])"
   ]
  },
  {
   "cell_type": "code",
   "execution_count": 17,
   "metadata": {
    "button": false,
    "collapsed": false,
    "deletable": true,
    "run_control": {
     "read_only": false
    }
   },
   "outputs": [
    {
     "name": "stdout",
     "output_type": "stream",
     "text": [
      "A0: {R0(1), R1(2), R2(3)}\n"
     ]
    }
   ],
   "source": [
    "print(a)"
   ]
  },
  {
   "cell_type": "markdown",
   "metadata": {
    "button": false,
    "deletable": true,
    "run_control": {
     "read_only": false
    }
   },
   "source": [
    "### Baustelle"
   ]
  },
  {
   "cell_type": "code",
   "execution_count": 18,
   "metadata": {
    "button": false,
    "collapsed": false,
    "deletable": true,
    "run_control": {
     "read_only": false
    }
   },
   "outputs": [],
   "source": [
    "class B:\n",
    "    count = 0\n",
    "    def __init__(self, rs, reward, x=(random.uniform(0,100)), y=(random.uniform(0,100))):\n",
    "        self.x = x\n",
    "        self.y = y\n",
    "        self.rs = rs;\n",
    "        self.reward = reward;\n",
    "        self._id = B.count;\n",
    "        B.count = B.count + 1;\n",
    "        \n",
    "    def __str__(self):\n",
    "        return(\"B\"+str(self._id)+\" {\"+\", \".join(\"R\"+str(i)+\"(\"+str(x)+\")\" for i, x in enumerate(self.rs))+\"}  +\"+str(self.reward));"
   ]
  },
  {
   "cell_type": "code",
   "execution_count": 19,
   "metadata": {
    "button": false,
    "collapsed": false,
    "deletable": true,
    "run_control": {
     "read_only": false
    }
   },
   "outputs": [],
   "source": [
    "b = B([3,2,1], 12)"
   ]
  },
  {
   "cell_type": "code",
   "execution_count": 20,
   "metadata": {
    "button": false,
    "collapsed": false,
    "deletable": true,
    "run_control": {
     "read_only": false
    }
   },
   "outputs": [
    {
     "name": "stdout",
     "output_type": "stream",
     "text": [
      "B0 {R0(3), R1(2), R2(1)}  +12\n"
     ]
    }
   ],
   "source": [
    "print(b)"
   ]
  },
  {
   "cell_type": "markdown",
   "metadata": {
    "button": false,
    "deletable": true,
    "run_control": {
     "read_only": false
    }
   },
   "source": [
    "$$distance: Agenten\\times Baustellen\\rightarrow \\mathbb{R}$$\n",
    "$$distance(a, b) := \\sqrt{(a.x-b.x)^2+(a.y-b.y)^2}$$"
   ]
  },
  {
   "cell_type": "code",
   "execution_count": 21,
   "metadata": {
    "button": false,
    "collapsed": false,
    "deletable": true,
    "run_control": {
     "read_only": false
    }
   },
   "outputs": [],
   "source": [
    "def distance(a, b):\n",
    "    return (((a.x-b.x)**2)+((a.y-b.y)**2))**0.5"
   ]
  },
  {
   "cell_type": "code",
   "execution_count": 23,
   "metadata": {
    "button": false,
    "collapsed": false,
    "deletable": true,
    "run_control": {
     "read_only": false
    }
   },
   "outputs": [
    {
     "name": "stdout",
     "output_type": "stream",
     "text": [
      "28.493176905298597\n"
     ]
    }
   ],
   "source": [
    "print(distance(a, b))"
   ]
  },
  {
   "cell_type": "code",
   "execution_count": 85,
   "metadata": {
    "collapsed": false,
    "run_control": {}
   },
   "outputs": [
    {
     "name": "stderr",
     "output_type": "stream",
     "text": [
      "/Applications/Pineapple-Pro.app/Contents/Frameworks/Python.framework/Versions/3.5/lib/python3.5/site-packages/matplotlib/collections.py:650: FutureWarning: elementwise comparison failed; returning scalar instead, but in the future will perform elementwise comparison\n",
      "  if self._edgecolors_original != str('face'):\n"
     ]
    },
    {
     "data": {
      "text/plain": [
       "{('B2', 'A1'): <matplotlib.text.Text at 0x106e65c50>}"
      ]
     },
     "execution_count": 85,
     "metadata": {},
     "output_type": "execute_result"
    },
    {
     "name": "stderr",
     "output_type": "stream",
     "text": [
      "/Applications/Pineapple-Pro.app/Contents/Frameworks/Python.framework/Versions/3.5/lib/python3.5/site-packages/matplotlib/collections.py:590: FutureWarning: elementwise comparison failed; returning scalar instead, but in the future will perform elementwise comparison\n",
      "  if self._edgecolors == str('face'):\n"
     ]
    },
    {
     "data": {
      "image/png": "[encoded data removed]",
      "text/plain": [
       "<matplotlib.figure.Figure at 0x1070db3c8>"
      ]
     },
     "metadata": {},
     "output_type": "display_data"
    }
   ],
   "source": [
    "G=nx.Graph()\n",
    "agents = [\"A1\", \"A2\", \"A3\"]\n",
    "baustellen = [\"B1\", \"B2\"]\n",
    "pos = {}\n",
    "for i, agent in enumerate(agents):\n",
    "    pos[agent] = [0,i]\n",
    "    G.add_node(agent, name=agent)\n",
    "for i, baustelle in enumerate(baustellen):\n",
    "    pos[baustelle] = [1,i]\n",
    "    G.add_node(baustelle, name=baustelle)\n",
    "G.add_edge(\"A1\", \"B2\", weight=7)\n",
    "nx.draw(G, pos)\n",
    "node_labels = nx.get_node_attributes(G,'name')\n",
    "nx.draw_networkx_labels(G, pos, labels = node_labels)\n",
    "edge_labels = nx.get_edge_attributes(G,'weight')\n",
    "nx.draw_networkx_edge_labels(G, pos, labels = edge_labels)"
   ]
  },
  {
   "cell_type": "code",
   "execution_count": null,
   "metadata": {
    "collapsed": true,
    "run_control": {}
   },
   "outputs": [],
   "source": []
  }
 ],
 "metadata": {
  "kernelspec": {
   "display_name": "Python 3",
   "language": "python",
   "name": "python3"
  },
  "language_info": {
   "codemirror_mode": {
    "name": "ipython",
    "version": 3
   },
   "file_extension": ".py",
   "mimetype": "text/x-python",
   "name": "python",
   "nbconvert_exporter": "python",
   "pygments_lexer": "ipython3",
   "version": "3.5.0"
  }
 },
 "nbformat": 4,
 "nbformat_minor": 0
}

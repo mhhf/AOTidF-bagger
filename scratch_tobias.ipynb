{
 "cells": [
  {
   "cell_type": "code",
   "execution_count": 1,
   "metadata": {
    "button": false,
    "collapsed": false,
    "deletable": true,
    "run_control": {
     "read_only": false
    }
   },
   "outputs": [],
   "source": [
    "%matplotlib inline\n",
    "\n",
    "import matplotlib\n",
    "import numpy as np\n",
    "import networkx as nx\n",
    "import matplotlib.pyplot as plt\n",
    "import random\n",
    "\n",
    "from networkx.algorithms import bipartite"
   ]
  },
  {
   "cell_type": "code",
   "execution_count": 2,
   "metadata": {
    "collapsed": false
   },
   "outputs": [],
   "source": [
    "\"\"\"\n",
    "Definitions\n",
    "\"\"\"\n",
    "random.seed('Zufall!!')\n",
    "mapWidth = mapHeight = 250"
   ]
  },
  {
   "cell_type": "markdown",
   "metadata": {},
   "source": [
    "### Skills\n",
    "Im Folgenden wird die Klasse _Skills_ implementiert. Sie repräsentiert einen Skill mit definierten Namen. Wird kein Name zur Initialisierung übergeben, wird ein Namen aus der ID (fortlaufende Nummer über alle initialisierten Skills) generiert.\n",
    "Danach werden beispielhaft vier Skills initialisiert. "
   ]
  },
  {
   "cell_type": "code",
   "execution_count": 3,
   "metadata": {
    "collapsed": false
   },
   "outputs": [],
   "source": [
    "class Skill:\n",
    "    count = 0\n",
    "    \n",
    "    def __init__(self, name=None):\n",
    "        self._id = Skill.count\n",
    "        Skill.count += 1\n",
    "        if name is None:\n",
    "            self.name = \"Skill \" + str(self._id)\n",
    "        else:\n",
    "            self.name = name\n",
    "            \n",
    "            \n",
    "    def __str__(self):\n",
    "        return self.name"
   ]
  },
  {
   "cell_type": "code",
   "execution_count": 4,
   "metadata": {
    "collapsed": false
   },
   "outputs": [
    {
     "name": "stdout",
     "output_type": "stream",
     "text": [
      "Skills: baggern, heben, mischen, mauern\n"
     ]
    }
   ],
   "source": [
    "sBaggern = Skill(\"baggern\"); sHeben = Skill(\"heben\")\n",
    "sMischen = Skill(\"mischen\"); sMauern = Skill(\"mauern\")\n",
    "\n",
    "skills = [sBaggern, sHeben, sMischen, sMauern]\n",
    "print \"Skills: \" + \", \".join([str(skill) for skill in skills])"
   ]
  },
  {
   "cell_type": "markdown",
   "metadata": {},
   "source": [
    "## Skillkapazitäten und Agenten (Baufirma)\n",
    "### Skillkapazität\n",
    "Agenten (Baufirmen) bieten Skills nicht einzeln, sondern als Skillkapazität an (in einer Skillkapazität kann jedoch auch ein Skill nur einmal vorhanden sein). Die Kosten des Agentens für die Bereitstellung der kompletten Skillkapazität oder eines Teiles werden über eine spezifische Kostenfunktion berechnet. Diese wird bei der Initialisierung der Klasse übergeben und rechnet auf Grundlage der Kapazität des Skills und der Entfernung zwischen Agent und Baustelle. Für ein Beispiel initialisieren wir uns 2 verschiedenen Skillkapazitäten mit unterschiedlicher Kostenfunktion."
   ]
  },
  {
   "cell_type": "code",
   "execution_count": 5,
   "metadata": {
    "collapsed": false
   },
   "outputs": [],
   "source": [
    "class SkillCap:\n",
    "    count = 0\n",
    "    \n",
    "    def __init__(self, skill, capacity, costFunction):\n",
    "        \"\"\" Initialisiere eine Skillkapazität mit Skill, Menge und Kostenfunktion. \"\"\"\n",
    "        \n",
    "        self._id = SkillCap.count\n",
    "        SkillCap.count += 1\n",
    "        \n",
    "        self.skill = skill\n",
    "        self.capacity = capacity\n",
    "        self.costFunction = costFunction\n",
    "        \n",
    "    def __str__(self):\n",
    "        return \"C-\" + str(self.skill) + \"(\" + str(self.capacity) + \")\"\n",
    "    \n",
    "    \n",
    "    def costs(self, distance, count=None):\n",
    "        \"\"\" Kosten für eine Menge der Skillkapazität. Wenn keine Menge angegeben wird: Kosten\n",
    "            für die gesamten Skillkapazität. \"\"\"\n",
    "    \n",
    "        if count is None:\n",
    "            count = self.capacity\n",
    "        \n",
    "        if  0 < count and count <= self.capacity:\n",
    "            return self.costFunction(count, distance)\n",
    "        else:\n",
    "            raise Exception(\"SkillCapacity\", \"getCosts()\")\n",
    "    \n",
    "    \n",
    "    def sell(self, distance, count=None):\n",
    "        \"\"\" Verkaufen eines Teiles oder der gesamten Skillkapazität (wenn keine Anzahl angegeben wird). \n",
    "            Die Kosten für den Agenten nach der Kostenfunktion werden zurückgegeben. \"\"\" \n",
    "        \n",
    "        if count is None:\n",
    "            count = self.capacity\n",
    "        \n",
    "        if 0 < count and count <= self.capacity:\n",
    "            self.capacity -= count\n",
    "            return self.costs(distance, count)\n",
    "        else:\n",
    "            raise StandardException(\"SkillCapacity\", \"sell()\")"
   ]
  },
  {
   "cell_type": "code",
   "execution_count": 6,
   "metadata": {
    "collapsed": false
   },
   "outputs": [
    {
     "name": "stdout",
     "output_type": "stream",
     "text": [
      "Skillkapazitäten: C-baggern(10), C-mauern(8)\n",
      "\n",
      "Kosten für 2 Items sk1, Distanz 5: 405\n",
      "Kosten für 4 Items sk1, Distanz 5: 810\n",
      "sk1 nach dem Verkauf der Items: C-baggern(4)\n"
     ]
    }
   ],
   "source": [
    "sk1 = SkillCap(sBaggern, 10, (lambda x,y: (x/3+1)*y + 200*x))  # 10 items, 3 items per shipment, one item 200\n",
    "sk2 = SkillCap(sMauern, 8, (lambda x,y: (x/3+1)*y + 215*x))  # 8 items, 3 items per shipment, one item 215\n",
    "skillCaps = [sk1, sk2]; print \"Skillkapazitäten: \" + \", \".join([str(skillCap) for skillCap in skillCaps])\n",
    "\n",
    "print \"\\nKosten für 2 Items sk1, Distanz 5: \" + str(sk1.costs(5, 2))\n",
    "print \"Kosten für 4 Items sk1, Distanz 5: \" + str(sk1.costs(5, 4))\n",
    "\n",
    "sk1.sell(5, 2); sk1.sell(5, 4)\n",
    "print \"sk1 nach dem Verkauf der Items: \" + str(sk1)"
   ]
  },
  {
   "cell_type": "markdown",
   "metadata": {},
   "source": [
    "### Agent (Baufirma)\n",
    "Eine Agent (Baufirma) in unserem Spiel sitzt an einem bestimmten Punkt im Koordinatensystem und hält verschiedenen Skillkapazitäten bereit. Im Laufe des Spiel verkauft er diese an Baustellen.  "
   ]
  },
  {
   "cell_type": "code",
   "execution_count": 7,
   "metadata": {
    "button": false,
    "collapsed": false,
    "deletable": true,
    "run_control": {
     "read_only": false
    }
   },
   "outputs": [],
   "source": [
    "class Agent:\n",
    "    count = 0\n",
    "    \n",
    "    def __init__(self, skillCaps, x=(random.uniform(0, mapWidth)), y=(random.uniform(0, mapHeight)) ):\n",
    "        \"\"\" Initialisieren eines Agenten mit übergebenen Skillkapazitäten. Werden keine Koordinaten übergeben, \n",
    "            wird der Agent zufällig auf der Karte platziert. \"\"\"\n",
    "        \n",
    "        self._id = \"A\"+str(Agent.count)\n",
    "        Agent.count += 1\n",
    "        \n",
    "        self.x, self.y = x, y\n",
    "        self.skillCaps = skillCaps\n",
    "    \n",
    "    \n",
    "    def __str__(self):\n",
    "        skillString = \"\"\n",
    "        if len(self.skillCaps) > 0:\n",
    "            skillString = \": \" + \", \".join([str(skillCap) for skillCap in self.skillCaps])\n",
    "        \n",
    "        return(\"Agent \" + str(self._id) + skillString)\n",
    "    \n",
    "    @property\n",
    "    def supply(self):  # Agent, Skill, Menge\n",
    "        return np.array([(self._id, str(skillCap.skill), str(skillCap.capacity)) for skillCap in self.skillCaps])"
   ]
  },
  {
   "cell_type": "code",
   "execution_count": 8,
   "metadata": {
    "collapsed": false
   },
   "outputs": [
    {
     "name": "stdout",
     "output_type": "stream",
     "text": [
      "Agent A0: C-baggern(10), C-mauern(8)\n"
     ]
    }
   ],
   "source": [
    "sk1 = SkillCap(sBaggern, 10, (lambda x,y: (x/3+1)*y + 200*x))  # 10 items, 3 items per shipment, one item 200\n",
    "sk2 = SkillCap(sMauern, 8, (lambda x,y: (x/3+1)*y + 215*x))  # 8 items, 3 items per shipment, one item 215\n",
    "\n",
    "agent1 = Agent((sk1, sk2))\n",
    "print agent1"
   ]
  },
  {
   "cell_type": "markdown",
   "metadata": {
    "button": false,
    "deletable": true,
    "run_control": {
     "read_only": false
    }
   },
   "source": [
    "## Ausschreibungen und Baustellen\n",
    "### Ausschreibung\n",
    "Eine Ausschreibung verrät uns, welchen Skill und in welcher Menge dieser von einer Baustelle für die erfolgreiche Fertigstellung benötigt wird. "
   ]
  },
  {
   "cell_type": "code",
   "execution_count": 9,
   "metadata": {
    "collapsed": false
   },
   "outputs": [],
   "source": [
    "class SkillReq:\n",
    "    count = 0\n",
    "    \n",
    "    def __init__(self, skill, amount):\n",
    "        \"\"\" Initialisiere einer Ausschreibung mit Skill und Menge. \"\"\"\n",
    "    \n",
    "        self._id = SkillReq.count\n",
    "        SkillReq.count += 1\n",
    "        \n",
    "        self.skill = skill\n",
    "        self.amount = amount\n",
    "    \n",
    "    def __str__(self):\n",
    "        return \"R-\" + str(self.skill) + \"(\" + str(self.amount) + \")\"\n",
    "    \n",
    "    def buy(self, count=None):\n",
    "        \"\"\" Kaufen einer Menge des Skills: Der Request wird entsprechend angepasst. \"\"\"\n",
    "        \n",
    "        if count is None:\n",
    "            count = self.amount\n",
    "        \n",
    "        if  0 < count and count <= self.amount:\n",
    "            self.amount -= count\n",
    "        else:\n",
    "            raise StandardException(\"Request\", \"buy()\")"
   ]
  },
  {
   "cell_type": "code",
   "execution_count": 10,
   "metadata": {
    "collapsed": false
   },
   "outputs": [
    {
     "name": "stdout",
     "output_type": "stream",
     "text": [
      "Requests: R-baggern(5), R-baggern(5), R-mauern(3), R-mauern(3)\n"
     ]
    }
   ],
   "source": [
    "rq1 = SkillReq(sBaggern, 5); rq2 = SkillReq(sBaggern, 5)\n",
    "rq3 = SkillReq(sMauern, 3); rq4 = SkillReq(sMauern, 2)\n",
    "\n",
    "requests = [rq1, rq2, rq3, rq3]\n",
    "print \"Requests: \" + \", \".join([str(request) for request in requests])"
   ]
  },
  {
   "cell_type": "markdown",
   "metadata": {},
   "source": [
    "### Baustelle\n",
    "Im Laufe des Spiel sind es die Baustellen, deren Ausschreibungen im Rahmen ihres Budgets möglichst preiswert von den Agenten erfüllt werden sollen. Auch sie sind fest im Koordinatensystem einem Ort zugeordnet."
   ]
  },
  {
   "cell_type": "code",
   "execution_count": 11,
   "metadata": {
    "button": false,
    "collapsed": false,
    "deletable": true,
    "run_control": {
     "read_only": false
    }
   },
   "outputs": [],
   "source": [
    "class Site:\n",
    "    count = 0\n",
    "    \n",
    "    def __init__(self, requests, budget, x=(random.uniform(0, mapWidth)), y=(random.uniform(0, mapHeight)) ):\n",
    "        \"\"\" Initialisiere einer Baustelle mit übergebenen Request. Werden keine Koordinaten übergeben, \n",
    "            wird die Baustelle zufällig auf der Karte platziert. \"\"\"\n",
    "        \n",
    "        self._id = \"B\"+str(Site.count)\n",
    "        Site.count += 1\n",
    "        \n",
    "        self.x, self.y = x, y\n",
    "        self.requests = requests\n",
    "        self.bud = budget\n",
    "    \n",
    "    def __str__(self):\n",
    "        requestString = \"\"\n",
    "        if len(self.requests) > 0:\n",
    "            requestString = \": \" + \", \".join([str(request) for request in self.requests])\n",
    "        \n",
    "        return(\"Baustelle \" + str(self._id) + requestString)\n",
    "    \n",
    "    @property\n",
    "    def demand(self):  # Baustelle, Skill, Menge\n",
    "        return np.array([(self._id, request.skill.name, request.amount) for request in self.requests])\n",
    "    \n",
    "    @property\n",
    "    def budget(self):  # Baustelle, Budget\n",
    "        return [self._id, self.bud]"
   ]
  },
  {
   "cell_type": "code",
   "execution_count": 12,
   "metadata": {
    "collapsed": false
   },
   "outputs": [
    {
     "name": "stdout",
     "output_type": "stream",
     "text": [
      "Baustelle B0: R-baggern(5), R-mauern(3)\n",
      "Baustelle B1: R-baggern(5), R-mauern(2)\n"
     ]
    }
   ],
   "source": [
    "site1 = Site([rq1, rq3], 2000); site2 = Site([rq2, rq4], 2500)\n",
    "print site1; print site2"
   ]
  },
  {
   "cell_type": "markdown",
   "metadata": {
    "button": false,
    "deletable": true,
    "run_control": {
     "read_only": false
    }
   },
   "source": [
    "## Szenario"
   ]
  },
  {
   "cell_type": "code",
   "execution_count": 13,
   "metadata": {
    "collapsed": false
   },
   "outputs": [],
   "source": [
    "class Scenario:\n",
    "    \n",
    "    \n",
    "    def __init__(self, agentCount=2, siteCount=2, skills=[Skill(\"mauern\"), Skill(\"baggern\")], \\\n",
    "                 skillCap=[[10,20],[15,10]], skillReq=[[7,15],[8,8]], budget=[100000], \\\n",
    "                 costFunction=[[lambda x,y:(x/5+1)*y+200*x, lambda x,y:(x/3+1)*y+250*x]], \\\n",
    "                 agents=None, sites=None):\n",
    "        \"\"\" Initialisierung eines Szenarios: Ohne die weitere Angabe von Parametern wird ein Szenario mit zwei Agenten \n",
    "            und einer Baustelle erstellt, die zwei Skills (\"mauern\" und \"baggern\") in der Menge (10,20) für Agent 1 \n",
    "            und (15,10) für Agent 2 als Skillkapazität besitzen bzw. Baustelle 1 (7,15) und Baustelle 2 (8,8) suchen.\n",
    "            Es gibt für die Skillkapazitäten Standardkostenfunktionen, die z.B. für den ersten Skill von Kosten von \n",
    "            200 per item und Shipmentkosten von $distance je 5 items ausgeht. Von dem dritten Skill könne nur 3 auf \n",
    "            einmal transportiert werden und eine Einheit kostet 250. Das Defaultbudget der Baustellen beträgt 100.000. \n",
    "            Alternativ hätte auch für jeden Agenten eine eigene Kostenfunktion bzw. jede Baustelle ein eigenes Budget \n",
    "            definiert werden können. Wenn Baustellen und Agenten bereits der Funktion übergeben werden (als Iterable),\n",
    "            so werden diese benutzt. \"\"\"\n",
    "        \n",
    "        # Are there complete sites? ############\n",
    "        if sites is not None:\n",
    "            self.sites = sites\n",
    "        else:\n",
    "            # check if budget sitewise or for all sites?\n",
    "            if len(budget) == 1:\n",
    "                budget = budget * siteCount\n",
    "            elif len(budget) != siteCount:\n",
    "                raise StandardException(\"Scenario\", \"__init__()\", \"site-budget\")\n",
    "            \n",
    "            # check skill requests\n",
    "            if len(skillReq) == 1:\n",
    "                skillReq = [skillReq] * siteCount\n",
    "            elif len(skillReq) != siteCount:\n",
    "                raise StandardException(\"Scenario\", \"__init__()\", \"site-requests\")\n",
    "                \n",
    "            # create sites\n",
    "            self.sites = list()\n",
    "            for site in range(siteCount):\n",
    "                \n",
    "                # create Skill Requests\n",
    "                sk = list()\n",
    "                if len(skillReq[site]) == len(skills):\n",
    "                    for i, skill in enumerate(skills):\n",
    "                        sk.append(SkillReq(skill, skillReq[site][i]))\n",
    "                elif len(skillReq) != siteCount:\n",
    "                    raise StandardException(\"Scenario\", \"__init__()\", \"site-requests-creation\")\n",
    "\n",
    "                self.sites.append(Site(sk, budget[site]))\n",
    "        \n",
    "        # Are there complete agents? ############\n",
    "        if agents is not None:\n",
    "            self.agents = agents\n",
    "        else:\n",
    "            # check if costFunction sitewise or for all sites?\n",
    "            if len(costFunction) == 1:\n",
    "                costFunction = costFunction * agentCount\n",
    "            elif len(costFunction) != agentCount:\n",
    "                raise StandardException(\"Scenario\", \"__init__()\", \"agent-costFunction\")\n",
    "            \n",
    "            # check skill capacities\n",
    "            if len(skillCap) == 1:\n",
    "                skillCap = [skillCap] * agentCount\n",
    "            elif len(skillCap) != agentCount:\n",
    "                raise StandardException(\"Scenario\", \"__init__()\", \"aget-capabilities\")\n",
    "                \n",
    "            # create agents\n",
    "            self.agents = list()\n",
    "            for agent in range(agentCount):\n",
    "                \n",
    "                # create Skill Capacities\n",
    "                sk = list()\n",
    "                if len(skillCap[agent]) == len(skills):\n",
    "                    for i, skill in enumerate(skills):\n",
    "                        sk.append(SkillCap(skill, skillCap[agent][i], costFunction[agent][i]))\n",
    "                elif len(skillReq) != siteCount:\n",
    "                    raise StandardException(\"Scenario\", \"__init__()\", \"agent-cap-creation\")\n",
    "                    \n",
    "                self.agents.append(Agent(sk))\n",
    "     \n",
    "        \n",
    "    def __str__(self):\n",
    "        \"\"\" Ausgabe des Szenarios in der definierten Algebra-Schreibweise. \"\"\"\n",
    "        \n",
    "        supply = [ \", \".join([elem[0], elem[1], elem[2]]) for elem in list(self.supply)]\n",
    "        demand = [ \", \".join([elem[0], elem[1], elem[2]]) for elem in list(self.demand)]\n",
    "        budget = [ \", \".join([elem[0], elem[1]]) for elem in list(self.budget)]\n",
    "        \n",
    "        return \"Agenten: \" + \", \".join(self.agent) + \"\\nBaustellen: \" + \", \".join(self.site) + \"\\n\" + \\\n",
    "               \"Supply: \" +  \"(\"+\"), (\".join(supply)+\")\" + \"\\nDemand: \" +\"(\"+\"), (\".join(demand)+\")\\n\" + \\\n",
    "               \"Budget: \" + \"(\"+\"), (\".join(budget)+\")\"\n",
    "    \n",
    "    @property\n",
    "    def agent(self):  # Agent\n",
    "        return np.array([agent._id for agent in self.agents])\n",
    "    \n",
    "    @property\n",
    "    def site(self):  # Baustelle\n",
    "        return np.array([site._id for site in self.sites])\n",
    "                                           \n",
    "    @property\n",
    "    def supply(self):  # Agent, Skill, Menge\n",
    "        return np.concatenate([agent.supply for agent in self.agents], axis=0)\n",
    "    \n",
    "    @property\n",
    "    def demand(self):  # Baustelle, Skill, Menge\n",
    "        return np.concatenate([site.demand for site in self.sites], axis=0)\n",
    "    \n",
    "    @property\n",
    "    def budget(self):  # Baustelle, Budget\n",
    "        return np.array([site.budget for site in self.sites])\n",
    "    \n",
    "    \n",
    "    #def match(self, agent, site, skillCap, request, price, amount=-1):\n",
    "        \"\"\" Ein Matching/Verkaufsvorgang wird beschrieben durch den behalten Preis durch die Baustelle, \n",
    "            den Kosten des Agenten, den Skill, die Kapazität und die Baustelle und den Agent selbst. \"\"\"\n",
    "    #    cost = skillCap.sell(self.distance(agent, site), amount)\n",
    "    #    request.buy(amount)\n",
    "    #    np.vstack([self.sales, (agent._id, site._id, str(skillCap.skill), cost, price))\n",
    "    \n",
    "\n",
    "    def distance(a, b):\n",
    "        return ( ((a.x-b.x)**2) + ((a.y-b.y)**2) )**0.5"
   ]
  },
  {
   "cell_type": "code",
   "execution_count": 14,
   "metadata": {
    "collapsed": false
   },
   "outputs": [
    {
     "name": "stdout",
     "output_type": "stream",
     "text": [
      "Agenten: A1, A2\n",
      "Baustellen: B2, B3\n",
      "Supply: (A1, mauern, 10), (A1, baggern, 20), (A2, mauern, 15), (A2, baggern, 10)\n",
      "Demand: (B2, mauern, 7), (B2, baggern, 15), (B3, mauern, 8), (B3, baggern, 8)\n",
      "Budget: (B2, 100000), (B3, 100000)\n"
     ]
    }
   ],
   "source": [
    "sc1 = Scenario()\n",
    "print sc1"
   ]
  }
 ],
 "metadata": {
  "kernelspec": {
   "display_name": "Python 2",
   "language": "python",
   "name": "python2"
  },
  "language_info": {
   "codemirror_mode": {
    "name": "ipython",
    "version": 2
   },
   "file_extension": ".py",
   "mimetype": "text/x-python",
   "name": "python",
   "nbconvert_exporter": "python",
   "pygments_lexer": "ipython2",
   "version": "2.7.6"
  }
 },
 "nbformat": 4,
 "nbformat_minor": 0
}

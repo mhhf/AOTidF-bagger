{
 "cells": [
  {
   "cell_type": "code",
   "execution_count": 1,
   "metadata": {
    "button": false,
    "collapsed": false,
    "deletable": true,
    "run_control": {
     "read_only": false
    }
   },
   "outputs": [],
   "source": [
    "%matplotlib inline\n",
    "\n",
    "import matplotlib\n",
    "import numpy as np\n",
    "import networkx as nx\n",
    "import matplotlib.pyplot as plt\n",
    "import random\n",
    "\n",
    "from networkx.algorithms import bipartite"
   ]
  },
  {
   "cell_type": "code",
   "execution_count": 2,
   "metadata": {
    "collapsed": false
   },
   "outputs": [],
   "source": [
    "\"\"\"\n",
    "Definitions\n",
    "\"\"\"\n",
    "random.seed('Zufall!!')\n",
    "mapWidth = mapHeight = 250"
   ]
  },
  {
   "cell_type": "markdown",
   "metadata": {},
   "source": [
    "### Skills\n",
    "Im Folgenden wird die Klasse _Skills_ implementiert. Sie repräsentiert einen Skill mit definierten Namen. Wird kein Name zur Initialisierung übergeben, wird ein Namen aus der ID (fortlaufende Nummer über alle initialisierten Skills) generiert.\n",
    "Danach werden beispielhaft vier Skills initialisiert. "
   ]
  },
  {
   "cell_type": "code",
   "execution_count": 3,
   "metadata": {
    "collapsed": false
   },
   "outputs": [],
   "source": [
    "class Skill:\n",
    "    count = 0\n",
    "    \n",
    "    \n",
    "    def __init__(self, *args):\n",
    "        self._id = Skill.count\n",
    "        Skill.count += 1\n",
    "        if len(args) != 1:\n",
    "            self.name = \"Skill \" + str(self._id)\n",
    "        else:\n",
    "            self.name = args[0]\n",
    "            \n",
    "            \n",
    "    def __str__(self):\n",
    "        return self.name"
   ]
  },
  {
   "cell_type": "code",
   "execution_count": 4,
   "metadata": {
    "collapsed": false
   },
   "outputs": [
    {
     "name": "stdout",
     "output_type": "stream",
     "text": [
      "Skills: baggern, heben, mischen, mauern\n"
     ]
    }
   ],
   "source": [
    "sBaggern = Skill(\"baggern\")\n",
    "sHeben = Skill(\"heben\")\n",
    "sMischen = Skill(\"mischen\")\n",
    "sMauern = Skill(\"mauern\")\n",
    "\n",
    "skills = [sBaggern, sHeben, sMischen, sMauern]\n",
    "print \"Skills: \" + \", \".join([str(skill) for skill in skills])"
   ]
  },
  {
   "cell_type": "markdown",
   "metadata": {},
   "source": [
    "## Skillkapazitäten und Agenten (Baufirma)\n",
    "### Skillkapazität\n",
    "Agenten (Baufirmen) bieten Skills nicht einzeln, sondern als Skillkapazität an (in einer Skillkapazität kann jedoch auch ein Skill nur einmal vorhanden sein). Die Kosten des Agentens für die Bereitstellung der kompletten Skillkapazität oder eines Teiles werden über eine spezifische Kostenfunktion berechnet. Diese wird bei der Initialisierung der Klasse übergeben und rechnet auf Grundlage der Kapazität des Skills und der Entfernung zwischen Agent und Baustelle. Für ein Beispiel initialisieren wir uns 2 verschiedenen Skillkapazitäten mit unterschiedlicher Kostenfunktion."
   ]
  },
  {
   "cell_type": "code",
   "execution_count": 5,
   "metadata": {
    "collapsed": false
   },
   "outputs": [],
   "source": [
    "class SkillCap:\n",
    "    count = 0\n",
    "    \n",
    "    \"\"\"\n",
    "    Initialisiere eine Skillkapazität mit Skill, Menge und Kostenfunktion.\n",
    "    \"\"\"\n",
    "    def __init__(self, skill, capacity, costFunction):\n",
    "        self._id = SkillCap.count\n",
    "        SkillCap.count += 1\n",
    "        \n",
    "        self.skill = skill\n",
    "        self.capacity = capacity\n",
    "        self.costFunction = costFunction\n",
    "        \n",
    "    def __str__(self):\n",
    "        return \"C-\" + str(self.skill) + \"(\" + str(self.capacity) + \")\"\n",
    "    \n",
    "    \n",
    "    \"\"\"\n",
    "    Kosten für eine Menge der Skillkapazität. Wenn keine Menge angegeben wird: Kosten\n",
    "    für die gesamten Skillkapazität.\n",
    "    \"\"\"\n",
    "    def costs(self, distance, count=-1):\n",
    "        if count == -1:\n",
    "            count = self.capacity\n",
    "        \n",
    "        if  0 < count and count <= self.capacity:\n",
    "            return self.costFunction(count, distance)\n",
    "        else:\n",
    "            raise Exception(\"SkillCapacity\", \"getCosts()\")\n",
    "    \n",
    "    \n",
    "    \"\"\"\n",
    "    Verkaufen eines Teiles oder der gesamten Skillkapazität (wenn keine Anzahl angegeben wird). \n",
    "    Die Kosten für den Agenten nach der Kostenfunktion werden zurückgegeben.\n",
    "    \"\"\" \n",
    "    def sell(self, distance, count=-1):\n",
    "        if count == -1:\n",
    "            count = self.capacity\n",
    "        \n",
    "        if 0 < count and count <= self.capacity:\n",
    "            self.capacity -= count\n",
    "            return self.costs(distance, count)\n",
    "        else:\n",
    "            raise StandardException(\"SkillCapacity\", \"sell()\")"
   ]
  },
  {
   "cell_type": "code",
   "execution_count": 6,
   "metadata": {
    "collapsed": false
   },
   "outputs": [
    {
     "name": "stdout",
     "output_type": "stream",
     "text": [
      "Skillkapazitäten: C-baggern(10), C-mauern(8)\n",
      "\n",
      "Kosten für 2 Items sk1, Distanz 5: 405\n",
      "Kosten für 4 Items sk1, Distanz 5: 810\n",
      "sk1 nach dem Verkauf der Items: C-baggern(4)\n"
     ]
    }
   ],
   "source": [
    "sk1 = SkillCap(sBaggern, 10, (lambda x,y: (x/3+1)*y + 200*x))  # 10 items, 3 items per shipment, one item 200\n",
    "sk2 = SkillCap(sMauern, 8, (lambda x,y: (x/3+1)*y + 215*x))  # 8 items, 3 items per shipment, one item 215\n",
    "skillCaps = [sk1, sk2]\n",
    "print \"Skillkapazitäten: \" + \", \".join([str(skillCap) for skillCap in skillCaps])\n",
    "\n",
    "print \"\\nKosten für 2 Items sk1, Distanz 5: \" + str(sk1.costs(5, 2))\n",
    "print \"Kosten für 4 Items sk1, Distanz 5: \" + str(sk1.costs(5, 4))\n",
    "\n",
    "sk1.sell(5, 2); sk1.sell(5, 4)\n",
    "print \"sk1 nach dem Verkauf der Items: \" + str(sk1)"
   ]
  },
  {
   "cell_type": "markdown",
   "metadata": {},
   "source": [
    "### Agent (Baufirma)\n",
    "Eine Agent (Baufirma) in unserem Spiel sitzt an einem bestimmten Punkt im Koordinatensystem und hält verschiedenen Skillkapazitäten bereit. Im Laufe des Spiel verkauft er diese an Baustellen.  "
   ]
  },
  {
   "cell_type": "code",
   "execution_count": 7,
   "metadata": {
    "button": false,
    "collapsed": false,
    "deletable": true,
    "run_control": {
     "read_only": false
    }
   },
   "outputs": [],
   "source": [
    "class Agent:\n",
    "    count = 0\n",
    "    \n",
    "    \n",
    "    \"\"\"\n",
    "    Initialisieren eines Agenten mit übergebenen Skillkapazitäten. Werden keine Koordinaten übergeben, \n",
    "    wird der Agent zufällig auf der Karte platziert.\n",
    "    \"\"\"\n",
    "    def __init__(self, skillCaps, x=(random.uniform(0, mapWidth)), y=(random.uniform(0, mapHeight)) ):\n",
    "        self._id = \"A\"+str(Agent.count)\n",
    "        Agent.count += 1\n",
    "        \n",
    "        self.x, self.y = x, y\n",
    "        self.skillCaps = skillCaps\n",
    "    \n",
    "    \n",
    "    def __str__(self):\n",
    "        skillString = \"\"\n",
    "        if len(self.skillCaps) > 0:\n",
    "            skillString = \": \" + \", \".join([str(skillCap) for skillCap in self.skillCaps])\n",
    "        \n",
    "        return(\"Agent \" + str(self._id) + skillString)\n",
    "    \n",
    "    \n",
    "    def supply(self):  # Agent, Skill, Menge\n",
    "        return np.array([(self._id, str(skillCap.skill), str(skillCap.capacity)) for skillCap in self.skillCaps])"
   ]
  },
  {
   "cell_type": "code",
   "execution_count": 8,
   "metadata": {
    "collapsed": false
   },
   "outputs": [
    {
     "name": "stdout",
     "output_type": "stream",
     "text": [
      "Agent A0: C-baggern(10), C-mauern(8)\n"
     ]
    }
   ],
   "source": [
    "sk1 = SkillCap(sBaggern, 10, (lambda x,y: (x/3+1)*y + 200*x))  # 10 items, 3 items per shipment, one item 200\n",
    "sk2 = SkillCap(sMauern, 8, (lambda x,y: (x/3+1)*y + 215*x))  # 8 items, 3 items per shipment, one item 215\n",
    "\n",
    "agent1 = Agent((sk1, sk2))\n",
    "print agent1"
   ]
  },
  {
   "cell_type": "markdown",
   "metadata": {
    "button": false,
    "deletable": true,
    "run_control": {
     "read_only": false
    }
   },
   "source": [
    "## Ausschreibungen und Baustellen\n",
    "### Ausschreibung\n",
    "Eine Ausschreibung verrät uns, welchen Skill und in welcher Menge dieser von einer Baustelle für die erfolgreiche Fertigstellung benötigt wird. "
   ]
  },
  {
   "cell_type": "code",
   "execution_count": 9,
   "metadata": {
    "collapsed": true
   },
   "outputs": [],
   "source": [
    "class Request:\n",
    "    count = 0\n",
    "    \n",
    "    \n",
    "    \"\"\"\n",
    "    Initialisiere einer Ausschreibung mit Skill und Menge.\n",
    "    \"\"\"\n",
    "    def __init__(self, skill, amount):\n",
    "        self._id = Request.count\n",
    "        Request.count += 1\n",
    "        \n",
    "        self.skill = skill\n",
    "        self.amount = amount\n",
    "    \n",
    "    \n",
    "    def __str__(self):\n",
    "        return \"R-\" + str(self.skill) + \"(\" + str(self.amount) + \")\"\n",
    "    \n",
    "    \n",
    "    def buy(self, count=-1):\n",
    "        if count == -1:\n",
    "            count = self.amount\n",
    "        \n",
    "        if  0 < count and count <= self.amount:\n",
    "            self.amount -= count\n",
    "        else:\n",
    "            raise StandardException(\"Request\", \"buy()\")"
   ]
  },
  {
   "cell_type": "code",
   "execution_count": 10,
   "metadata": {
    "collapsed": false
   },
   "outputs": [
    {
     "name": "stdout",
     "output_type": "stream",
     "text": [
      "Requests: R-baggern(5), R-baggern(5), R-mauern(3), R-mauern(3)\n"
     ]
    }
   ],
   "source": [
    "rq1 = Request(sBaggern, 5); rq2 = Request(sBaggern, 5)\n",
    "rq3 = Request(sMauern, 3); rq4 = Request(sMauern, 2)\n",
    "\n",
    "requests = [rq1, rq2, rq3, rq3]\n",
    "print \"Requests: \" + \", \".join([str(request) for request in requests])"
   ]
  },
  {
   "cell_type": "markdown",
   "metadata": {},
   "source": [
    "### Baustelle\n",
    "Im Laufe des Spiel sind es die Baustellen, deren Ausschreibungen im Rahmen ihres Budgets möglichst preiswert von den Agenten erfüllt werden sollen. Auch sie sind fest im Koordinatensystem einem Ort zugeordnet."
   ]
  },
  {
   "cell_type": "code",
   "execution_count": 11,
   "metadata": {
    "button": false,
    "collapsed": false,
    "deletable": true,
    "run_control": {
     "read_only": false
    }
   },
   "outputs": [],
   "source": [
    "class Site:\n",
    "    count = 0\n",
    "    \n",
    "    \n",
    "    \"\"\"\n",
    "    Initialisiere einer Baustelle mit übergebenen Request. Werden keine Koordinaten übergeben, \n",
    "    wird die Baustelle zufällig auf der Karte platziert.\n",
    "    \"\"\"\n",
    "    def __init__(self, requests, budget, x=(random.uniform(0, mapWidth)), y=(random.uniform(0, mapHeight)) ):\n",
    "        self._id = \"B\"+str(Site.count)\n",
    "        Site.count += 1\n",
    "        \n",
    "        self.x, self.y = x, y\n",
    "        self.requests = requests\n",
    "        self.budget = budget\n",
    "        \n",
    "    \n",
    "    \n",
    "    def __str__(self):\n",
    "        requestString = \"\"\n",
    "        if len(self.requests) > 0:\n",
    "            requestString = \": \" + \", \".join([str(request) for request in self.requests])\n",
    "        \n",
    "        return(\"Baustelle \" + str(self._id) + requestString)\n",
    "    \n",
    "    \n",
    "    def demand(self):  # Baustelle, Skill, Menge\n",
    "        return np.array([(self._id, request.skill.name, request.amount) for request in self.requests])"
   ]
  },
  {
   "cell_type": "code",
   "execution_count": 12,
   "metadata": {
    "collapsed": false
   },
   "outputs": [
    {
     "name": "stdout",
     "output_type": "stream",
     "text": [
      "Baustelle B0: R-baggern(5), R-mauern(3)\n",
      "Baustelle B1: R-baggern(5), R-mauern(2)\n"
     ]
    }
   ],
   "source": [
    "site1 = Site([rq1, rq3], 2000)\n",
    "site2 = Site([rq2, rq4], 2500)\n",
    "\n",
    "print site1; print site2"
   ]
  },
  {
   "cell_type": "markdown",
   "metadata": {
    "button": false,
    "deletable": true,
    "run_control": {
     "read_only": false
    }
   },
   "source": [
    "## Szenario"
   ]
  },
  {
   "cell_type": "code",
   "execution_count": 13,
   "metadata": {
    "collapsed": false
   },
   "outputs": [],
   "source": [
    "class Scenario:\n",
    "    \n",
    "    \n",
    "    def __init__(self, agentCount, siteCount, skills, costFunctions):\n",
    "        self.agents = [self.createAgent(skills, costFunctions) for i in range(agentCount)]\n",
    "        self.sites = [self.createSite(skills) for i in range(siteCount)]\n",
    "        self.sales = np.array([])\n",
    "\n",
    "        \n",
    "    \"\"\"\n",
    "    Diese Funktion erstellt einen Agenten, der an einer zufälligen Stelle im Koordinatensystem \n",
    "    sitzt. Er besitzt Skillkapazitäten mit einer zufälligen Kapazität und zufällig ausgwählter\n",
    "    Kostenfunktion. \n",
    "    \"\"\"\n",
    "    def createAgent(self, skills, costFunctions):\n",
    "        rand = random.sample(range(20), len(skills))\n",
    "        randSkill = random.sample(range(20), len(skills))\n",
    "        return Agent([SkillCap(skill, rand[i], random.choice(costFunctions)) for i, skill in enumerate(skills)])\n",
    "    \n",
    "    \n",
    "    \"\"\"\n",
    "    Diese Funktion erstellt eine Baustelle, die an einer zufälligen Stelle im Koordinatensystem \n",
    "    sitzt. Er besitzt Ausschreibungen mit zufälliger Anzahl zu den übergebenen Skills.\n",
    "    \"\"\"\n",
    "    def createSite(self, skills, budget=200000):\n",
    "        rand = random.sample(range(20), len(skills))\n",
    "        randSkill = random.sample(range(20), len(skills))\n",
    "        return Site([Request(skill, rand[i]) for i, skill in enumerate(skills)], budget)\n",
    "     \n",
    "        \n",
    "    \"\"\"\n",
    "    Ausgabe des Szenarios in der definierten Algebra-Schreibweise.\n",
    "    \"\"\"\n",
    "    def __str__(self):\n",
    "        supply = [ \", \".join([elem[0], elem[1], elem[2]]) for elem in list(self.supply())]\n",
    "        demand = [ \", \".join([elem[0], elem[1], elem[2]]) for elem in list(self.demand())]\n",
    "        return \"Agenten: \" + \", \".join([str(agent._id) for agent in self.agents]) + \"\\n\" + \\\n",
    "               \"Baustellen (Budget): \" + \", \".join([str(site._id)+ \\\n",
    "               \" (\"+str(site.budget)+\")\" for site in self.sites]) + \"\\n\" + \\\n",
    "               \"Supply: \" +  \"(\"+\"), (\".join(supply)+\")\" + \"\\n\" + \\\n",
    "               \"Demand: \" +\"(\"+\"), (\".join(demand)+\")\"\n",
    "     \n",
    "    \n",
    "    def supply(self):\n",
    "        array = [agent.supply() for agent in self.agents]\n",
    "        return np.concatenate(array, axis=0)\n",
    "    \n",
    "    \n",
    "    def demand(self):\n",
    "        array = [site.demand() for site in self.sites]\n",
    "        return np.concatenate(array, axis=0)\n",
    "    \n",
    "    \n",
    "    \"\"\"\n",
    "    Ein Matching/Verkaufsvorgang wird beschrieben durch den behalten Preis durch die Baustelle, \n",
    "    den Kosten des Agenten, den Skill, die Kapazität und die Baustelle und den Agent selbst. \n",
    "    \"\"\"\n",
    "    #def sell(self, agent, site, skillCap, request, price, amount=-1):\n",
    "    #    cost = skillCap.sell(self.distance(agent, site), amount)\n",
    "    #    request.buy(amount)\n",
    "    #    np.vstack([self.sales, (agent._id, site._id, str(skillCap.skill), cost, price))\n",
    "    \n",
    "\n",
    "    def distance(a, b):\n",
    "        return ( ((a.x-b.x)**2) + ((a.y-b.y)**2) )**0.5"
   ]
  },
  {
   "cell_type": "code",
   "execution_count": 14,
   "metadata": {
    "collapsed": false
   },
   "outputs": [
    {
     "name": "stdout",
     "output_type": "stream",
     "text": [
      "verfügbare Skills: baggern, mauern\n",
      "\n",
      "Agenten: A1, A2, A3\n",
      "Baustellen (Budget): B2 (200000), B3 (200000)\n",
      "Supply: (A1, baggern, 4), (A1, mauern, 14), (A2, baggern, 9), (A2, mauern, 19), (A3, baggern, 2), (A3, mauern, 19)\n",
      "Demand: (B2, baggern, 13), (B2, mauern, 0), (B3, baggern, 12), (B3, mauern, 11)\n"
     ]
    }
   ],
   "source": [
    "# initialisiere Skills\n",
    "sBaggern = Skill(\"baggern\"); sMauern = Skill(\"mauern\")\n",
    "skills = [sBaggern, sMauern]\n",
    "print \"verfügbare Skills: \" + \", \".join([str(skill) for skill in skills]) + \"\\n\"\n",
    "\n",
    "# initialisiere Kostenfunktionen\n",
    "costFunctions = [ lambda x,y: (x/5+1)*y + 200*x, lambda x,y: (x/8+1)*y + 200*x, lambda x,y: (x/10+1)*y + 200*x, \\\n",
    "                  lambda x,y: (x/5+1)*y + 230*x, lambda x,y: (x/8+1)*y + 230*x, lambda x,y: (x/10+1)*y + 230*x, \\\n",
    "                  lambda x,y: (x/5+1)*y + 275*x, lambda x,y: (x/8+1)*y + 275*x, lambda x,y: (x/10+1)*y + 275*x  ]\n",
    "\n",
    "sc1 = Scenario(3, 2, skills, costFunctions)\n",
    "print sc1"
   ]
  }
 ],
 "metadata": {
  "kernelspec": {
   "display_name": "Python 2",
   "language": "python",
   "name": "python2"
  },
  "language_info": {
   "codemirror_mode": {
    "name": "ipython",
    "version": 2
   },
   "file_extension": ".py",
   "mimetype": "text/x-python",
   "name": "python",
   "nbconvert_exporter": "python",
   "pygments_lexer": "ipython2",
   "version": "2.7.6"
  }
 },
 "nbformat": 4,
 "nbformat_minor": 0
}

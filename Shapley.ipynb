{
 "cells": [
  {
   "cell_type": "markdown",
   "metadata": {},
   "source": [
    "# Shapley-Value"
   ]
  },
  {
   "cell_type": "code",
   "execution_count": 1,
   "metadata": {
    "collapsed": false
   },
   "outputs": [
    {
     "name": "stdout",
     "output_type": "stream",
     "text": [
      "importing Jupyter notebook from GameFramework.ipynb\n"
     ]
    }
   ],
   "source": [
    "import IPythonImporter\n",
    "import GameFramework as gf\n",
    "\n",
    "import numpy as np\n",
    "import scipy.stats as stats"
   ]
  },
  {
   "cell_type": "code",
   "execution_count": 2,
   "metadata": {
    "collapsed": false
   },
   "outputs": [
    {
     "name": "stdout",
     "output_type": "stream",
     "text": [
      "3.89228606224\n"
     ]
    }
   ],
   "source": [
    "def shapley(scenario):\n",
    "    \n",
    "    # data structur: | Skill | CostFunction | Location | Agent |\n",
    "    struc = np.empty((0,2));\n",
    "    \n",
    "    # Alle SkillCapacities aufsplitten\n",
    "    for agent in scenario.agents:\n",
    "        for skill in agent.skillCaps:\n",
    "            struc = np.concatenate((struc, [[str(skill.skill), str(agent._id)] \\\n",
    "                                     for i in range(skill.capacity)]), axis=0)\n",
    "            \n",
    "    # Alle möglichen Koalitionen durchiterieren, codiert als binäre Zahl\n",
    "    bit_digits = struc.shape[0]\n",
    "    int_number = int(pow(2, bit_digits-1) + pow(2, bit_digits-1)-1)\n",
    "\n",
    "    for i in xrange(int_number+1):\n",
    "        bit_string = list(str(bin(i)[2:].zfill(bit_digits)))\n",
    "        bit_string = np.reshape(np.repeat(bit_string, 2), (bit_digits, 2))\n",
    "        \n",
    "        coalition = struc[bit_string=='1']\n",
    "        coalition = np.reshape(coalition, ((coalition.shape[0]/2, 2)))\n",
    "        \n",
    "        # Check: Kann die Koalition eine oder mehrere Baustellen bedienen?\n",
    "        if len(coalition) > 0:\n",
    "            coalitionAggr = stats.itemfreq(coalition[:,0])\n",
    "            possibleSites = list()\n",
    "\n",
    "            for site in scenario.sites:  # für jede Baustelle\n",
    "                valid = True\n",
    "                \n",
    "                for req in site.requests:  # Genug Skills in Coalition für Baustelle?\n",
    "                    skillIdx = np.where(coalitionAggr[:,0] == str(req.skill))\n",
    "\n",
    "                    if  coalitionAggr[:,1][skillIdx].shape[0] == 0 or \\\n",
    "                       (coalitionAggr[:,1][skillIdx]).astype(int) < req.amount:\n",
    "                        valid = False\n",
    "                        break\n",
    "                        \n",
    "                if valid == True:\n",
    "                    possibleSites.append(site._id)\n",
    "\n",
    "            \n",
    "scenario = gf.Scenario( agentCount=2, siteCount=2, skills=[gf.Skill(\"mauern\"), gf.Skill(\"baggern\")], \\\n",
    "                        skillCap=[[5,3],[3,5]], skillReq=[[7,15],[8,8]], budget=[9000000], \\\n",
    "                        costFunction=[['lambda k,d:(k/5+1)*d+200*k', 'lambda k,d:(k/3+1)*d+250*k']] )\n",
    "    \n",
    "if __name__=='__main__':\n",
    "    from timeit import Timer\n",
    "    t = Timer(lambda: shapley(scenario))\n",
    "    print t.timeit(number=1)"
   ]
  }
 ],
 "metadata": {
  "kernelspec": {
   "display_name": "Python 2",
   "language": "python",
   "name": "python2"
  },
  "language_info": {
   "codemirror_mode": {
    "name": "ipython",
    "version": 2
   },
   "file_extension": ".py",
   "mimetype": "text/x-python",
   "name": "python",
   "nbconvert_exporter": "python",
   "pygments_lexer": "ipython2",
   "version": "2.7.12"
  }
 },
 "nbformat": 4,
 "nbformat_minor": 0
}

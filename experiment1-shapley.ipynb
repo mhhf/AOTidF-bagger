{
 "cells": [
  {
   "cell_type": "code",
   "execution_count": 1,
   "metadata": {
    "collapsed": false
   },
   "outputs": [
    {
     "name": "stdout",
     "output_type": "stream",
     "text": [
      "importing Jupyter notebook from GameFramework.ipynb\n",
      "importing Jupyter notebook from Shapley.ipynb\n"
     ]
    }
   ],
   "source": [
    "import IPythonImporter\n",
    "import GameFramework as gf\n",
    "import Shapley as sh\n",
    "\n",
    "import numpy as np\n",
    "import multiprocessing\n",
    "from pathos.multiprocessing import ProcessingPool as Pool"
   ]
  },
  {
   "cell_type": "code",
   "execution_count": null,
   "metadata": {
    "collapsed": false
   },
   "outputs": [],
   "source": [
    "# Generiere Szenarien\n",
    "#sc = gf.generateScenaries(agentsNumber=2, sitesNumber=2, skillsNumber=2, \\\n",
    "#                          capacitiesNumber=(2,), requestsNumber=(4,))\n",
    "#print len(sc)\n",
    "\n",
    "import time\n",
    "\n",
    "scenario1 = gf.Scenario( agentCount=3, siteCount=2, skills=[gf.Skill(\"mauern\"), gf.Skill(\"baggern\")], \\\n",
    "                         skillCap=[[2,1],[1,2],[1,1]], skillReq=[[2,2],[2,2]], budget=[90000], \\\n",
    "                         costFunction=[['lambda k,d:(k/5+1)*d+20*k', 'lambda k,d:(k/5+1)*d+20*k',\\\n",
    "                                        'lambda k,d:(k/3+1)*d+25*k']] )\n",
    "\n",
    "scenario2 = gf.Scenario( agentCount=2, siteCount=2, skills=[gf.Skill(\"mauern\"), gf.Skill(\"baggern\")], \\\n",
    "                         skillCap=[[2,1],[1,2]], skillReq=[[1,2],[2,1]], budget=[90000], \\\n",
    "                         costFunction=[['lambda k,d:(k/5+1)*d+20*k', 'lambda k,d:(k/5+1)*d+20*k',\\\n",
    "                                        'lambda k,d:(k/3+1)*d+25*k']] )\n",
    "sc = [scenario1, scenario2]\n",
    "\n",
    "# Prepare multiprocessing\n",
    "pool = Pool(multiprocessing.cpu_count()-1)\n",
    "tasks = [(s) for s in sc]\n",
    "\n",
    "start = time.time()\n",
    "print pool.map(sh.shapley, tasks)\n",
    "end = time.time()\n",
    "print(end - start)\n",
    "\n",
    "start = time.time()\n",
    "sh.shapley(scenario1)\n",
    "sh.shapley(scenario2)\n",
    "end = time.time()\n",
    "print(end - start)"
   ]
  },
  {
   "cell_type": "code",
   "execution_count": null,
   "metadata": {
    "collapsed": true
   },
   "outputs": [],
   "source": []
  }
 ],
 "metadata": {
  "kernelspec": {
   "display_name": "Python 2",
   "language": "python",
   "name": "python2"
  },
  "language_info": {
   "codemirror_mode": {
    "name": "ipython",
    "version": 2
   },
   "file_extension": ".py",
   "mimetype": "text/x-python",
   "name": "python",
   "nbconvert_exporter": "python",
   "pygments_lexer": "ipython2",
   "version": "2.7.12"
  }
 },
 "nbformat": 4,
 "nbformat_minor": 1
}

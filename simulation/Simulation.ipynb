{
 "cells": [
  {
   "cell_type": "code",
   "execution_count": 31,
   "metadata": {
    "collapsed": false
   },
   "outputs": [],
   "source": [
    "import IPythonImporter\n",
    "import GameFramework as gf\n",
    "import SequentialReverseAuction as srg\n",
    "import Shapley as sh\n",
    "\n",
    "import time\n",
    "import numpy as np\n",
    "import matplotlib.pyplot as plt\n",
    "from pathos.multiprocessing import ProcessingPool"
   ]
  },
  {
   "cell_type": "code",
   "execution_count": 2,
   "metadata": {
    "collapsed": false
   },
   "outputs": [
    {
     "name": "stdout",
     "output_type": "stream",
     "text": [
      "Anzahl an Szenarien: 4096\n"
     ]
    }
   ],
   "source": [
    "# Generiere Szenarien\n",
    "sc = gf.generateScenaries(agentsNumber=2, sitesNumber=2, skillsNumber=2, \\\n",
    "                          capacitiesNumber=(1,2), requestsNumber=(1,3))\n",
    "\n",
    "print \"Anzahl an Szenarien: \" + str(len(sc))"
   ]
  },
  {
   "cell_type": "code",
   "execution_count": 3,
   "metadata": {
    "collapsed": false
   },
   "outputs": [],
   "source": [
    "# multiprocessing shapley\n",
    "# start = time.time()\n",
    "# results_shapley = ProcessingPool().map(sh.shapley, sc)\n",
    "# end = time.time()\n",
    "# print \"Processing Time Shapley: \" + str(end - start)"
   ]
  },
  {
   "cell_type": "code",
   "execution_count": 4,
   "metadata": {
    "collapsed": false
   },
   "outputs": [],
   "source": [
    "# multiprocessing SRG\n",
    "# start = time.time()\n",
    "# results_srg = ProcessingPool().map(srg.sequentialReverseAuction, sc)\n",
    "# end = time.time()\n",
    "# print \"Processing Time SRG: \" + str(end - start)"
   ]
  },
  {
   "cell_type": "code",
   "execution_count": 5,
   "metadata": {
    "collapsed": true
   },
   "outputs": [],
   "source": [
    "# aus Datei laden\n",
    "results_shapley = np.load('shapley.out.npy')\n",
    "results_srg = np.load('srg.out.npy')"
   ]
  },
  {
   "cell_type": "code",
   "execution_count": 6,
   "metadata": {
    "collapsed": false
   },
   "outputs": [],
   "source": [
    "# Shapley aufbereiten\n",
    "res_s = [r[2].values() for r in results_shapley if r != None]\n",
    "ar_s = np.zeros((len(res_s), 2), dtype=np.dtype(int))\n",
    "\n",
    "for idx, r in enumerate(res_s):\n",
    "    ar_s[idx] = r"
   ]
  },
  {
   "cell_type": "code",
   "execution_count": 7,
   "metadata": {
    "collapsed": false
   },
   "outputs": [],
   "source": [
    "# srg aufbereiten\n",
    "res_r = [r[:,1] for r in results_srg if r is not None]\n",
    "ar_r = np.zeros((len(res_r), 2), dtype=np.dtype(int))\n",
    "\n",
    "for idx, r in enumerate(res_r):\n",
    "    if len(r) == 1: \n",
    "        ar_r[idx] = [int(r[0]), 0]\n",
    "    else:\n",
    "        ar_r[idx] = [int(r[0]), int(r[1])]"
   ]
  },
  {
   "cell_type": "code",
   "execution_count": 61,
   "metadata": {
    "collapsed": false
   },
   "outputs": [
    {
     "name": "stdout",
     "output_type": "stream",
     "text": [
      "Anzahl an Szenarien mit mindestens einer gebauten Baustelle\n",
      "Shapley: 3087 von 4096, 75%\n",
      "SRG: 2304 von 4096, 56%\n"
     ]
    },
    {
     "data": {
      "image/png": "[encoded data removed]",
      "text/plain": [
       "<matplotlib.figure.Figure at 0x1110e0190>"
      ]
     },
     "metadata": {},
     "output_type": "display_data"
    }
   ],
   "source": [
    "# Wie viele Szenarien haben eine Auszahlung?\n",
    "print \"Anzahl an Szenarien mit mindestens einer gebauten Baustelle\"\n",
    "print \"Shapley: \" + str(ar_s.shape[0]) + \" von \" + str(len(sc)) + \", \" + str(int((float(ar_s.shape[0])/len(sc))*100)) + \"%\"\n",
    "print \"SRG: \" + str(ar_r.shape[0]) + \" von \" + str(len(sc)) + \", \" + str(int((float(ar_r.shape[0])/len(sc))*100)) + \"%\"\n",
    "\n",
    "n_groups = 3\n",
    "finished = (len(sc), ar_s.shape[0], ar_r.shape[0])\n",
    "fig, ax = plt.subplots()\n",
    "index = np.arange(n_groups)\n",
    "bar_width = 0.6\n",
    "opacity = 0.4\n",
    "\n",
    "rects1 = plt.bar(index+bar_width/2, finished, bar_width,\n",
    "                 alpha=opacity,\n",
    "                 color='b')\n",
    "\n",
    "for rect in rects1:\n",
    "    height = rect.get_height()\n",
    "    ax.text(rect.get_x()+rect.get_width()/2., 1.02*height,\n",
    "                '%d' % int(height),\n",
    "                ha='center', va='bottom')\n",
    "\n",
    "plt.ylabel('Anzahl')\n",
    "plt.xticks(index + bar_width, ('Baustellen', 'mind. eine \\n gebaute Baustellen \\n Shapley', 'mind. eine \\n gebaute Baustellen \\n Auction'))\n",
    "\n",
    "plt.tight_layout()\n",
    "plt.show()"
   ]
  },
  {
   "cell_type": "code",
   "execution_count": 38,
   "metadata": {
    "collapsed": false
   },
   "outputs": [
    {
     "name": "stdout",
     "output_type": "stream",
     "text": [
      "61\n"
     ]
    }
   ],
   "source": [
    "shapley_umsatz = np.sum(ar_s)\n",
    "shapley_sum_max = np.sum(ar_s.max(axis=1))\n",
    "shapley_sum_min = np.sum(ar_s.min(axis=1))\n",
    "\n",
    "shapley_umsatz_a = int(float(shapley_umsatz)/ar_s.shape[0]/2)\n",
    "shapley_sum_max_a = int(float(shapley_sum_max)/ar_s.shape[0]/2)\n",
    "shapley_sum_min_a = int(float(shapley_sum_min)/ar_s.shape[0]/2)"
   ]
  },
  {
   "cell_type": "code",
   "execution_count": 44,
   "metadata": {
    "collapsed": false
   },
   "outputs": [
    {
     "name": "stdout",
     "output_type": "stream",
     "text": [
      "18\n"
     ]
    }
   ],
   "source": [
    "srg_umsatz = np.sum(ar_r)\n",
    "srg_sum_max = np.sum(ar_r.max(axis=1))\n",
    "srg_sum_min = np.sum(ar_r.min(axis=1))    \n",
    "\n",
    "srg_umsatz_a = int(float(srg_umsatz)/ar_r.shape[0]/2)\n",
    "srg_sum_max_a = int(float(srg_sum_max)/ar_r.shape[0]/2)\n",
    "srg_sum_min_a = int(float(srg_sum_min)/ar_r.shape[0]/2)\n",
    "print int((float(srg_sum_min)/srg_sum_max)*100)"
   ]
  },
  {
   "cell_type": "code",
   "execution_count": 40,
   "metadata": {
    "collapsed": false
   },
   "outputs": [
    {
     "data": {
      "image/png": "[encoded data removed]",
      "text/plain": [
       "<matplotlib.figure.Figure at 0x10fee8f50>"
      ]
     },
     "metadata": {},
     "output_type": "display_data"
    }
   ],
   "source": [
    "n_groups = 3\n",
    "srg = (srg_umsatz, srg_sum_min, srg_sum_max)\n",
    "shapley = (shapley_umsatz, shapley_sum_min, shapley_sum_max)\n",
    "fig, ax = plt.subplots()\n",
    "index = np.arange(n_groups)\n",
    "bar_width = 0.4\n",
    "opacity = 0.4\n",
    "\n",
    "rects1 = plt.bar(index, shapley, bar_width,\n",
    "                 alpha=opacity,\n",
    "                 color='b',\n",
    "                 label='Shapley Value')\n",
    "\n",
    "rects2 = plt.bar(index + bar_width, srg, bar_width,\n",
    "                 alpha=opacity,\n",
    "                 color='r',\n",
    "                 label='Auction')\n",
    "\n",
    "plt.ylabel('Geld')\n",
    "plt.xticks(index + bar_width, ('soz. Wohlfahrt', 'soz. Wohlfahrt: \\n min(Agent)', 'soz. Wohlfahrt: \\n max(Agent)'))\n",
    "plt.legend()\n",
    "\n",
    "plt.tight_layout()\n",
    "plt.show()"
   ]
  },
  {
   "cell_type": "code",
   "execution_count": 42,
   "metadata": {
    "collapsed": false
   },
   "outputs": [
    {
     "data": {
      "image/png": "[encoded data removed]",
      "text/plain": [
       "<matplotlib.figure.Figure at 0x1100540d0>"
      ]
     },
     "metadata": {},
     "output_type": "display_data"
    }
   ],
   "source": [
    "n_groups = 3\n",
    "srg = (srg_umsatz_a, srg_sum_min_a, srg_sum_max_a)\n",
    "shapley = (shapley_umsatz_a, shapley_sum_min_a, shapley_sum_max_a)\n",
    "fig, ax = plt.subplots()\n",
    "index = np.arange(n_groups)\n",
    "bar_width = 0.4\n",
    "opacity = 0.4\n",
    "\n",
    "rects1 = plt.bar(index, shapley, bar_width,\n",
    "                 alpha=opacity,\n",
    "                 color='b',\n",
    "                 label='Shapley Value')\n",
    "\n",
    "rects2 = plt.bar(index + bar_width, srg, bar_width,\n",
    "                 alpha=opacity,\n",
    "                 color='r',\n",
    "                 label='Auction')\n",
    "\n",
    "plt.ylabel('Geld')\n",
    "plt.xticks(index + bar_width, ('Gewinn je Agent', 'Gewinn \\n min(Agent)', 'Gewinn \\n max(Agent)'))\n",
    "plt.legend()\n",
    "\n",
    "plt.tight_layout()\n",
    "plt.show()"
   ]
  },
  {
   "cell_type": "code",
   "execution_count": 63,
   "metadata": {
    "collapsed": false
   },
   "outputs": [
    {
     "name": "stdout",
     "output_type": "stream",
     "text": [
      "Shapley Unterschied max(Agent) und min(Agent):\n",
      "61%\n",
      "\n",
      "SRG Unterschied max(Agent) und min(Agent):\n",
      "18%\n"
     ]
    }
   ],
   "source": [
    "# Unterschied\n",
    "print \"Shapley Unterschied max(Agent) und min(Agent):\"\n",
    "print str(int((float(shapley_sum_min)/shapley_sum_max)*100)) + \"%\"\n",
    "print \"\"\n",
    "print \"SRG Unterschied max(Agent) und min(Agent):\"\n",
    "print str(int((float(srg_sum_min)/srg_sum_max)*100)) + \"%\""
   ]
  },
  {
   "cell_type": "code",
   "execution_count": null,
   "metadata": {
    "collapsed": true
   },
   "outputs": [],
   "source": [
    "float(shapley_sum_min)/shapley_sum_max)"
   ]
  }
 ],
 "metadata": {
  "kernelspec": {
   "display_name": "Python 2",
   "language": "python",
   "name": "python2"
  },
  "language_info": {
   "codemirror_mode": {
    "name": "ipython",
    "version": 2
   },
   "file_extension": ".py",
   "mimetype": "text/x-python",
   "name": "python",
   "nbconvert_exporter": "python",
   "pygments_lexer": "ipython2",
   "version": "2.7.12"
  }
 },
 "nbformat": 4,
 "nbformat_minor": 1
}

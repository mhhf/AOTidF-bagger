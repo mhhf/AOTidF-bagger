{
 "cells": [
  {
   "cell_type": "code",
   "execution_count": 1,
   "metadata": {
    "collapsed": false
   },
   "outputs": [
    {
     "name": "stdout",
     "output_type": "stream",
     "text": [
      "importing Jupyter notebook from GameFramework.ipynb\n",
      "importing Jupyter notebook from SequentialReverseAuction.ipynb\n",
      "importing Jupyter notebook from Shapley.ipynb\n"
     ]
    }
   ],
   "source": [
    "import IPythonImporter\n",
    "import GameFramework as gf\n",
    "import SequentialReverseAuction as srg\n",
    "import Shapley as sh\n",
    "\n",
    "import time\n",
    "import numpy as np\n",
    "from pathos.multiprocessing import ProcessingPool"
   ]
  },
  {
   "cell_type": "code",
   "execution_count": 2,
   "metadata": {
    "collapsed": false
   },
   "outputs": [
    {
     "name": "stdout",
     "output_type": "stream",
     "text": [
      "Anzahl an Szenarien: 4096\n"
     ]
    }
   ],
   "source": [
    "# Generiere Szenarien\n",
    "sc = gf.generateScenaries(agentsNumber=2, sitesNumber=2, skillsNumber=2, \\\n",
    "                          capacitiesNumber=(1,2), requestsNumber=(1,3))\n",
    "\n",
    "print \"Anzahl an Szenarien: \" + str(len(sc))"
   ]
  },
  {
   "cell_type": "code",
   "execution_count": 3,
   "metadata": {
    "collapsed": false
   },
   "outputs": [
    {
     "name": "stdout",
     "output_type": "stream",
     "text": [
      "Processing Time Shapley: 900.073484898\n"
     ]
    }
   ],
   "source": [
    "# multiprocessing shapley\n",
    "start = time.time()\n",
    "results_shapley = ProcessingPool().map(sh.shapley, sc)\n",
    "end = time.time()\n",
    "print \"Processing Time Shapley: \" + str(end - start)"
   ]
  },
  {
   "cell_type": "code",
   "execution_count": 9,
   "metadata": {
    "collapsed": false
   },
   "outputs": [
    {
     "name": "stdout",
     "output_type": "stream",
     "text": [
      "Processing Time SRG: 0.385056972504\n"
     ]
    }
   ],
   "source": [
    "# multiprocessing SRG\n",
    "start = time.time()\n",
    "results_srg = ProcessingPool().map(srg.sequentialReverseAuction, sc)\n",
    "end = time.time()\n",
    "print \"Processing Time SRG: \" + str(end - start)"
   ]
  },
  {
   "cell_type": "code",
   "execution_count": 5,
   "metadata": {
    "collapsed": false
   },
   "outputs": [],
   "source": [
    "# Shapley aufbereiten\n",
    "res_s = [r[2].values() for r in results_shapley if r != None]\n",
    "\n",
    "ar_s = np.zeros((len(res_s), 2), dtype=np.dtype(int))\n",
    "for idx, r in enumerate(res_s):\n",
    "    ar_s[idx] = r"
   ]
  },
  {
   "cell_type": "code",
   "execution_count": 23,
   "metadata": {
    "collapsed": false
   },
   "outputs": [
    {
     "name": "stdout",
     "output_type": "stream",
     "text": [
      "318080594\n",
      "121150265\n",
      "196930329\n",
      "0.61519353375\n"
     ]
    }
   ],
   "source": [
    "shapley_umsatz = np.sum(ar_s)\n",
    "shapley_sum_min = np.sum(ar_s.min(axis=1))\n",
    "shapley_sum_max = np.sum(ar_s.max(axis=1))\n",
    "\n",
    "print shapley_umsatz\n",
    "print shapley_sum_min\n",
    "print shapley_sum_max\n",
    "print float(shapley_sum_min)/shapley_sum_max"
   ]
  },
  {
   "cell_type": "code",
   "execution_count": 21,
   "metadata": {
    "collapsed": false
   },
   "outputs": [],
   "source": [
    "# srg aufbereiten\n",
    "res_r = [r[:,1] for r in results_srg if r is not None]\n",
    "ar_r = np.zeros((len(results_srg), 2), dtype=np.dtype(int))\n",
    "\n",
    "for idx, r in enumerate(res_r):\n",
    "    if len(r) == 1: \n",
    "        ar_r[idx] = [int(r[0]), 0]\n",
    "    else:\n",
    "        ar_r[idx] = [int(r[0]), int(r[1])]"
   ]
  },
  {
   "cell_type": "code",
   "execution_count": 24,
   "metadata": {
    "collapsed": false
   },
   "outputs": [
    {
     "name": "stdout",
     "output_type": "stream",
     "text": [
      "252758528\n",
      "39094808\n",
      "213663720\n",
      "0.18297354366\n"
     ]
    }
   ],
   "source": [
    "srg_umsatz = np.sum(ar_r)\n",
    "srg_sum_min = np.sum(ar_r.min(axis=1))\n",
    "srg_sum_max = np.sum(ar_r.max(axis=1))    \n",
    "    \n",
    "print srg_umsatz\n",
    "print srg_sum_min\n",
    "print srg_sum_max\n",
    "print float(srg_sum_min)/srg_sum_max"
   ]
  },
  {
   "cell_type": "code",
   "execution_count": 10,
   "metadata": {
    "collapsed": false
   },
   "outputs": [
    {
     "data": {
      "image/png": "[encoded data removed]",
      "text/plain": [
       "<matplotlib.figure.Figure at 0x10b862190>"
      ]
     },
     "metadata": {},
     "output_type": "display_data"
    }
   ],
   "source": [
    "import numpy as np\n",
    "import matplotlib.pyplot as plt\n",
    "\n",
    "\n",
    "n_groups = 3\n",
    "srg = (252758528, 39094808, 213663720)\n",
    "shapley = (318080594, 121150265, 196930329)\n",
    "fig, ax = plt.subplots()\n",
    "index = np.arange(n_groups)\n",
    "bar_width = 0.4\n",
    "opacity = 0.4\n",
    "\n",
    "rects1 = plt.bar(index, shapley, bar_width,\n",
    "                 alpha=opacity,\n",
    "                 color='b',\n",
    "                 label='Shapley Value')\n",
    "\n",
    "rects2 = plt.bar(index + bar_width, srg, bar_width,\n",
    "                 alpha=opacity,\n",
    "                 color='r',\n",
    "                 label='Auction')\n",
    "\n",
    "plt.ylabel('Geld')\n",
    "plt.xticks(index + bar_width, ('soz. Wohlfahrt', 'soz. Wohlfahrt: \\n min(Agent)', 'soz. Wohlfahrt: \\n max(Agent)'))\n",
    "plt.legend()\n",
    "\n",
    "plt.tight_layout()\n",
    "plt.show()"
   ]
  },
  {
   "cell_type": "code",
   "execution_count": null,
   "metadata": {
    "collapsed": true
   },
   "outputs": [],
   "source": []
  }
 ],
 "metadata": {
  "kernelspec": {
   "display_name": "Python 2",
   "language": "python",
   "name": "python2"
  },
  "language_info": {
   "codemirror_mode": {
    "name": "ipython",
    "version": 2
   },
   "file_extension": ".py",
   "mimetype": "text/x-python",
   "name": "python",
   "nbconvert_exporter": "python",
   "pygments_lexer": "ipython2",
   "version": "2.7.12"
  }
 },
 "nbformat": 4,
 "nbformat_minor": 1
}
